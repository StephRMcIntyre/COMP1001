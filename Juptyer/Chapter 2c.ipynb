{
 "cells": [
  {
   "cell_type": "code",
   "execution_count": null,
   "id": "41dc5f38",
   "metadata": {},
   "outputs": [],
   "source": [
    "%load_ext nb_mypy \n",
    "#you may opt to run this piece of code.\n",
    "#The package can be installed by typing in your Terminal:\n",
    "#             python3 -m pip install nb_mypy"
   ]
  },
  {
   "cell_type": "markdown",
   "id": "8d1f8713",
   "metadata": {},
   "source": [
    "# Chapter 2c - Modules\n",
    "\n",
    "**Modules**\n",
    "\n",
    "A module is a collection of useful code that you can make available to your Python program.\n",
    "<br>• A library is a collection of modules.\n",
    "<br>• A standard library is a library that is considered part of the language and must be included with any Python system.\n",
    "<br>• Python’s standard library is organized into modules.\n",
    "<br>• Related functions and data types are grouped into the same module.\n",
    "<br>• Functions defined in a module must be explicitly loaded into your program before they can be used.\n",
    "\n",
    "A module we will use a lot in this course is the math module.\n",
    "\n",
    "The statement import math creates a variable called math that points to a module object. In that object are all the names defined in that module. The individual methods now can be invoked through the module name math as:"
   ]
  },
  {
   "cell_type": "code",
   "execution_count": null,
   "id": "41462a07",
   "metadata": {},
   "outputs": [],
   "source": [
    "import math\n",
    "print(math.sqrt(25))"
   ]
  },
  {
   "cell_type": "markdown",
   "id": "27c6d915",
   "metadata": {},
   "source": [
    "The dot in math.sqrt(25) is an operator, just like + and \\*\\*. \n",
    "<br>It means “look for the object that the variable to the left of the dot points to and, in that object, find the name that occurs to the right of the dot.”\n",
    "\n",
    "Modules can contain CONSTANTS too. \n",
    "<br>For example, module math also defines pi among other variables. \n",
    "<br>**Note:** to access the value of pi we do not use the pi symbol."
   ]
  },
  {
   "cell_type": "code",
   "execution_count": null,
   "id": "c7155b25",
   "metadata": {},
   "outputs": [],
   "source": [
    "print(math.pi)"
   ]
  },
  {
   "cell_type": "markdown",
   "id": "5512c9dd",
   "metadata": {},
   "source": [
    "Python lets you specify exactly what you want to import from a module. \n",
    "<br>This does not introduce an object math. Instead, only function sqrtand variable pi are created"
   ]
  },
  {
   "cell_type": "code",
   "execution_count": null,
   "id": "c48c3b51",
   "metadata": {},
   "outputs": [],
   "source": [
    "from math import sqrt,pi\n",
    "\n",
    "#notice how now we do not need \"math.\" prior to sqrt or pi\n",
    "print(sqrt(pi))"
   ]
  },
  {
   "cell_type": "markdown",
   "id": "2cd6cf30",
   "metadata": {},
   "source": [
    "There is a way to import everything from the math module without having to use math. in the calls.\n",
    "This is **from math import \\***\n",
    "\n",
    "**A word of warning...**\n",
    "<br>If you import, for example, function spell from a module called magic and then another function called spell from a module called grammar, the second replaces the first. Therefore, it may not be a good idea to use import \\*, which brings everything at once. \n",
    "<br>Although import * saves time, you run the risk of your program accessing the incorrect function.\n",
    "<br>In other words, don't do it."
   ]
  },
  {
   "cell_type": "code",
   "execution_count": null,
   "id": "b3d815f8",
   "metadata": {},
   "outputs": [],
   "source": [
    "#Functions from the math module\n",
    "import math\n",
    "\n",
    "#sqrt can only be done on non-negative integers\n",
    "#find the square root of 2\n",
    "print(\"The square root of 2 is\",)\n",
    "\n",
    "#trunc to truncate the value to an integer. Don't forget to use math.pi \n",
    "print(\"Truncating the value of pi is\",)\n",
    "#think of another way to accomplish trunc with % instead\n",
    "print(\"Rounding down the value of pi is\",)\n",
    "\n",
    "#exp for e^x, the input value is x.\n",
    "print(\"e^2 =\", )\n",
    "\n",
    "#natural log (base is e)\n",
    "print(\"log(10) =\", )\n",
    "\n",
    "#log of a particular base, log(x, base). In CS we often use base 2. The answer here is 5.0\n",
    "print(\"log(32) in base 2 =\",)\n",
    "\n",
    "#cos, sin, tan all take as input radians\n",
    "print(\"sin(pi/2)=\",  ,\" cos(pi/2)=\", , \" and tan(pi/2)=\",)\n",
    "\n",
    "#degrees and radians\n",
    "print(math.pi/2, \"radians is\", , \"degrees. 90 degrees is\", ,\"radians.\")\n"
   ]
  },
  {
   "cell_type": "markdown",
   "id": "7c156c9a",
   "metadata": {},
   "source": [
    "Some nuances... \n",
    "\n",
    "There are a couple things that we need to know, and it is going to work best with experimenting!\n",
    "<br>Run the code snippets below."
   ]
  },
  {
   "cell_type": "code",
   "execution_count": null,
   "id": "870bac2f",
   "metadata": {},
   "outputs": [],
   "source": [
    "#natural log (base is e)\n",
    "print(\"log(32) =\",math.log(32) )\n",
    "\n",
    "#log of a particular base, log(x, base). In CS we often use base 2.\n",
    "print(\"log2(32) =\",math.log(32,2))"
   ]
  },
  {
   "cell_type": "markdown",
   "id": "92d1c247",
   "metadata": {},
   "source": [
    "Run the code below then comment the line that contains an error.\n",
    "<br>Repeat this until there are no more errors left."
   ]
  },
  {
   "cell_type": "code",
   "execution_count": null,
   "id": "b3d00e22",
   "metadata": {},
   "outputs": [],
   "source": [
    "#Errors\n",
    "print(\"Can't log of 0:\", math.log(0))\n",
    "print(\"Can't square root negative values:\", math.sqrt(-1))\n",
    "print(\"Nor do mod with d = 0:\", 4%0)"
   ]
  },
  {
   "cell_type": "markdown",
   "id": "6872a837",
   "metadata": {},
   "source": [
    "Finish the code below."
   ]
  },
  {
   "cell_type": "code",
   "execution_count": null,
   "id": "6e2c58f7",
   "metadata": {},
   "outputs": [],
   "source": [
    "#don't forget to import math!\n",
    "\n",
    "\n",
    "#variables\n",
    "pointX1 = -4\n",
    "pointX2 = 9\n",
    "\n",
    "#calculate the distance between x1 and x2\n",
    "\n",
    "\n",
    "#square root the result\n",
    "\n",
    "\n",
    "#print the result"
   ]
  },
  {
   "cell_type": "markdown",
   "id": "9ed02cf5",
   "metadata": {},
   "source": [
    "<a href = \".\\Chapter 2d.ipynb\">Continue</a> with Chapter 2.\n",
    "<br>Return back to the <a href = \".\\index.ipynb\">Main Page</a>"
   ]
  }
 ],
 "metadata": {
  "kernelspec": {
   "display_name": "Python 3 (ipykernel)",
   "language": "python",
   "name": "python3"
  },
  "language_info": {
   "codemirror_mode": {
    "name": "ipython",
    "version": 3
   },
   "file_extension": ".py",
   "mimetype": "text/x-python",
   "name": "python",
   "nbconvert_exporter": "python",
   "pygments_lexer": "ipython3",
   "version": "3.9.0"
  }
 },
 "nbformat": 4,
 "nbformat_minor": 5
}
