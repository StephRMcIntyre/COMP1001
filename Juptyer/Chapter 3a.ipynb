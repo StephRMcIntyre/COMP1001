{
 "cells": [
  {
   "cell_type": "markdown",
   "id": "8d1f8713",
   "metadata": {
    "tags": []
   },
   "source": [
    "# Chapter 3a Boolean data type and if-statements\n",
    "\n",
    "The objective of this notebook are:\n",
    "\n",
    "- Learn the fundamentals of how to:\n",
    "    - use Boolean operators and data type\n",
    "    - compare integer data with relational operators\n",
    "    - implement decisions using the if-statement\n",
    "\n",
    "## Boolean data type\n",
    "\n",
    "The Boolean data type, `bool`, can have one of two values, `True` or `False`. These are special values for Boolean variables. You may see Boolean variable in an `if` statements shown in the code snippet below. We will revisit `if` statements later in this notebook.\n"
   ]
  },
  {
   "cell_type": "code",
   "execution_count": 1,
   "id": "41462a07",
   "metadata": {
    "tags": []
   },
   "outputs": [
    {
     "name": "stdout",
     "output_type": "stream",
     "text": [
      "I will walk to MUN\n"
     ]
    }
   ],
   "source": [
    "walk_to_MUN = True # define our boolean variable\n",
    "if (walk_to_MUN == True): # the condition is True\n",
    "    print(\"I will walk to MUN\")\n",
    "else: # the condition is False\n",
    "    print(\"I will take the bus to MUN\")\n"
   ]
  },
  {
   "cell_type": "markdown",
   "id": "27c6d915",
   "metadata": {
    "tags": []
   },
   "source": [
    "\n",
    "\n",
    "------\n",
    "\n",
    "## Boolean Operators\n",
    "\n",
    "We will go over three Boolean operations AND, OR, and NOT. The AND operator is written as `and` in Python, the OR operator is written as `or` in Python, and NOT is written as `not` in Python. There operations work with our Boolean data types. For our next examples, `A` and `B` are generic Boolean variables. Later, we will see how to Boolean data types often appear in code.   \n",
    "\n",
    "\n",
    "--- \n",
    "\n",
    "### NOT operator\n",
    "\n",
    "The NOT operator will negate the input value, `A`. It changes the input value from `True` to `False` or `False` to `True`. Run the example below to verify this statement.\n"
   ]
  },
  {
   "cell_type": "code",
   "execution_count": 2,
   "id": "c7155b25",
   "metadata": {
    "tags": []
   },
   "outputs": [
    {
     "name": "stdout",
     "output_type": "stream",
     "text": [
      "If A is True, \n",
      "then NOT A is False\n",
      "\n",
      "If A is, False \n",
      "then NOT A is True\n"
     ]
    }
   ],
   "source": [
    "A = True # input value\n",
    "print(\"If A is %s, \\nthen NOT A is %s\" % (A,not A))\n",
    "\n",
    "print()\n",
    "A = False # input value\n",
    "print(\"If A is, %s \\nthen NOT A is %s\" % (A,not A))\n"
   ]
  },
  {
   "cell_type": "markdown",
   "id": "ccb0d6e7-3272-4cd3-b305-b9120fb37abc",
   "metadata": {},
   "source": [
    "We can create a truth table to keep track of the results. The NOT operator the truth table is as follows,\n",
    "\n",
    "| `A` | `not A` |\n",
    "| ---|---|\n",
    "| True | False|\n",
    "| False | True|\n"
   ]
  },
  {
   "cell_type": "markdown",
   "id": "147de46e-e449-4647-ac6f-ba9a1d10a983",
   "metadata": {},
   "source": [
    "---\n",
    "### AND operator\n",
    "\n",
    "The AND operator is also known as conjunction is only returns `True` when input values `A` and `B` are `True`,"
   ]
  },
  {
   "cell_type": "code",
   "execution_count": 3,
   "id": "e3da138d-a79e-4f8b-aefe-7e5c7fa2c3cc",
   "metadata": {},
   "outputs": [
    {
     "name": "stdout",
     "output_type": "stream",
     "text": [
      "If A is True and B is True, \n",
      "then A AND B is True\n",
      "\n",
      "If A is True and B is False, \n",
      "then A AND B is False\n",
      "\n",
      "If A is False and B is True, \n",
      "then A AND B is False\n",
      "\n",
      "If A is False and B is False, \n",
      "then A AND B is False\n",
      "\n"
     ]
    }
   ],
   "source": [
    "A = True \n",
    "B = True \n",
    "print(\"If A is %s and B is %s, \\nthen A AND B is %s\\n\" % (A,B,A and B))\n",
    "\n",
    "A = True \n",
    "B = False \n",
    "print(\"If A is %s and B is %s, \\nthen A AND B is %s\\n\" % (A,B,A and B))\n",
    "\n",
    "A = False \n",
    "B = True \n",
    "print(\"If A is %s and B is %s, \\nthen A AND B is %s\\n\" % (A,B,A and B))\n",
    "\n",
    "A = False \n",
    "B = False \n",
    "print(\"If A is %s and B is %s, \\nthen A AND B is %s\\n\" % (A,B,A and B))\n"
   ]
  },
  {
   "cell_type": "markdown",
   "id": "4ad3c771-819e-43d2-b7be-145b09deb526",
   "metadata": {},
   "source": [
    "The truth table for the AND operator is as follows,\n",
    "\n",
    "| `A` | `B` |`A and B` |\n",
    "| ---|---|---|\n",
    "|True | True | True |\n",
    "|True | False| False|\n",
    "|False| True | False|\n",
    "|False| False| False|"
   ]
  },
  {
   "cell_type": "markdown",
   "id": "5512c9dd",
   "metadata": {},
   "source": [
    "---\n",
    "### OR operator\n",
    "\n",
    "The OR operator also known as disjunction is `True` when one input value is `True`. Run the code snippet below."
   ]
  },
  {
   "cell_type": "code",
   "execution_count": 4,
   "id": "09d80a97-350a-497b-82c2-f32e4b63277e",
   "metadata": {
    "tags": []
   },
   "outputs": [
    {
     "name": "stdout",
     "output_type": "stream",
     "text": [
      "If A is True and B is True, \n",
      "then A OR B is True\n",
      "\n",
      "If A is True and B is False, \n",
      "then A OR B is True\n",
      "\n",
      "If A is False and B is True, \n",
      "then A OR B is True\n",
      "\n",
      "If A is False and B is False, \n",
      "then A OR B is False\n",
      "\n"
     ]
    }
   ],
   "source": [
    "A = True \n",
    "B = True \n",
    "print(\"If A is %s and B is %s, \\nthen A OR B is %s\\n\" % (A,B,A or B))\n",
    "\n",
    "A = True \n",
    "B = False\n",
    "print(\"If A is %s and B is %s, \\nthen A OR B is %s\\n\" % (A,B,A or B))\n",
    "\n",
    "A = False\n",
    "B = True\n",
    "print(\"If A is %s and B is %s, \\nthen A OR B is %s\\n\" % (A,B,A or B))\n",
    "\n",
    "A = False\n",
    "B = False\n",
    "print(\"If A is %s and B is %s, \\nthen A OR B is %s\\n\" % (A,B,A or B))\n"
   ]
  },
  {
   "cell_type": "markdown",
   "id": "83b64291-f1d5-4047-95b3-3afa41bacb26",
   "metadata": {},
   "source": [
    "The truth table for the OR operator is as follows,\n",
    "| `A` | `B` |`A or B` |\n",
    "| ---|---|---|\n",
    "|True | True | True |\n",
    "|True | False| True|\n",
    "|False| True | True|\n",
    "|False| False| False|"
   ]
  },
  {
   "cell_type": "markdown",
   "id": "2cd6cf30",
   "metadata": {},
   "source": [
    "## Precedence for Boolean operators\n",
    "\n",
    "The order of operations for Boolean operators is: NOT is first, AND is second, and OR is third. This means NOT is evaluated first, then AND, and OR is last.  \n",
    "If you make compound statements without brackets, as shown above, you need to keep in mind the order of operations. Otherwise, use brackets to specify the order of operations.\n"
   ]
  },
  {
   "cell_type": "markdown",
   "id": "8b139279-59f2-4422-91bd-93d496774482",
   "metadata": {
    "tags": []
   },
   "source": [
    "---\n",
    "## Comparing integer data with relational operators\n",
    "\n",
    "\n",
    "A Boolean value often comes up whenever we compare two objects. The six relational operators we will talk about are shown in the table below. We will focus on applying these relational operators to integers for now. \n",
    "\n",
    "| Relational Operator     | Description |\n",
    "| ----------- | ----------- |\n",
    "| `==`      | Equal      |\n",
    "| `!=`      | Not equal      |\n",
    "| `<`      | Less than       |\n",
    "| `>`      | Greater than       |\n",
    "| `<=`      | Less than or equal       |\n",
    "| `>=`      | Greater than or equal       |\n",
    "\n",
    "\n",
    "Equality is the first relational operator we will go over. If we want to check two objects have the same value, use a double equal sign, `==`. `A == B` is `True` if `A` and `B` have the same value and `False` otherwise."
   ]
  },
  {
   "cell_type": "code",
   "execution_count": 5,
   "id": "a1832cb3-643e-40b1-8cf1-d08808fa0b6e",
   "metadata": {
    "tags": []
   },
   "outputs": [
    {
     "name": "stdout",
     "output_type": "stream",
     "text": [
      "True\n",
      "False\n"
     ]
    }
   ],
   "source": [
    "# correct == syntax\n",
    "print(1==1) # should print True\n",
    "print(1==2) # should print False"
   ]
  },
  {
   "cell_type": "markdown",
   "id": "a01f0bc8-1b07-4832-9ceb-03bfca549f1d",
   "metadata": {},
   "source": [
    "On the opposite side, to check if two objects are not equal use `!=`. `A != B`  is `True` if `A` and `B` do not have the same value and `False` otherwise."
   ]
  },
  {
   "cell_type": "code",
   "execution_count": 6,
   "id": "b7d2c9ff-00dc-4c14-832f-5f133c87ed5c",
   "metadata": {
    "tags": []
   },
   "outputs": [
    {
     "name": "stdout",
     "output_type": "stream",
     "text": [
      "True\n"
     ]
    }
   ],
   "source": [
    "# first approach \n",
    "print(1!=2) "
   ]
  },
  {
   "cell_type": "markdown",
   "id": "7ab3c945-3bcf-4d5e-b958-2689c480bde1",
   "metadata": {},
   "source": [
    "Next, we will look at less-than (`<`) and greater-than (`>`) relation. `A < B` is `True` if the value of `A` lower than `B` and `False` otherwise. `A > B` is `True` if the value of `A` larger than `B` and `False` otherwise."
   ]
  },
  {
   "cell_type": "code",
   "execution_count": 7,
   "id": "48bbeace-65cc-4de0-bad8-6248b27c8f57",
   "metadata": {
    "tags": []
   },
   "outputs": [
    {
     "name": "stdout",
     "output_type": "stream",
     "text": [
      "True\n",
      "False\n"
     ]
    }
   ],
   "source": [
    "print(1<2)\n",
    "print(1>2)"
   ]
  },
  {
   "cell_type": "markdown",
   "id": "6a7c4dbc-60f5-4d85-a241-39e5c0c6d04d",
   "metadata": {},
   "source": [
    "Finally, less-than or equal (`<=`) and greater-than or equal (`>=`) relation. `A <= B` is `True` if `A<B or A==B` and `False` otherwise. `A >= B` is `True` if `A>B or A==B` and `False` otherwise."
   ]
  },
  {
   "cell_type": "code",
   "execution_count": 8,
   "id": "3566004a-6278-490a-9a43-b6b18be2e0c9",
   "metadata": {
    "tags": []
   },
   "outputs": [
    {
     "name": "stdout",
     "output_type": "stream",
     "text": [
      "True\n",
      "False\n"
     ]
    }
   ],
   "source": [
    "print(1<=2)\n",
    "print(1>=2)"
   ]
  },
  {
   "cell_type": "markdown",
   "id": "cd8183f3-2731-4ade-b7c8-e60c4c82ebec",
   "metadata": {},
   "source": [
    "## Relational vs arithmetic operators\n",
    "\n",
    "Arithmetic operators take precedence over relational operators. This means, calculations are done first, then comparisons are done second. The example illustrates this concept."
   ]
  },
  {
   "cell_type": "code",
   "execution_count": 9,
   "id": "9b65553c-79b5-46a0-920f-452d12fb2c8f",
   "metadata": {
    "tags": []
   },
   "outputs": [
    {
     "name": "stdout",
     "output_type": "stream",
     "text": [
      "True\n"
     ]
    }
   ],
   "source": [
    "# 2*3 is done first, then compare 1 < 6. \n",
    "print(1<2*3) # should print True"
   ]
  },
  {
   "cell_type": "markdown",
   "id": "3793e8b2-8550-4a30-847b-ccc9e5af38f6",
   "metadata": {},
   "source": [
    "---\n",
    "## Making decisions using the if statement\n",
    "\n",
    "In Python, to implement a decision we use the keywords `if` and `else` to construct an `if` statement. The `if` statement creates what is known as a branch. You go down the true (`if`) branch when the conditional statement is `True` or down the false (`else`) branch when the conditional statement is `False`.  The syntax is as follows, \n",
    "```\n",
    "if (Conditional statement that is True or False goes here):\n",
    "    Execute this set of statements if the conditional statement is True\n",
    "else: (Optional)\n",
    "    Execute this set of statements if the conditional statement is False\n",
    "```\n",
    "\n",
    "Important to keep in mind that `if` and `else` are aligned and the code inside of the `if` and `else` branches are indented.\n",
    "\n",
    "Run the example below and observe the output,\n",
    "\n",
    "indented \n"
   ]
  },
  {
   "cell_type": "code",
   "execution_count": 10,
   "id": "d4781edd",
   "metadata": {
    "tags": []
   },
   "outputs": [
    {
     "name": "stdout",
     "output_type": "stream",
     "text": [
      "I will walk to MUN\n"
     ]
    }
   ],
   "source": [
    "walk_to_MUN = True # define our boolean variable\n",
    "if (walk_to_MUN == True): # the condition is True\n",
    "    print(\"I will walk to MUN\")\n",
    "else: # the condition is False\n",
    "    print(\"I will take the bus to MUN\")\n"
   ]
  },
  {
   "cell_type": "markdown",
   "id": "6a0c9c11-7921-41e2-b6fc-232ec5e1b924",
   "metadata": {},
   "source": [
    "The first line provides defines our Boolean variable, `walk_to_MUN`. Then, the `if` statement condition check if `walk_to_MUN == True` our Boolean variable has the value `True`. If the condition is `True` we print \"I will walk to MUN\". Else, we print \"I will take the bus to MUN\"\n",
    "\n",
    "We used brackets to encapsulate the condition. Brackets may help with readability of your code as it clearly defines your conditions. In Python, this is not necessary, and they can be left out. However, other languages may require them. Run the code below and you should see the same output as before.\n"
   ]
  },
  {
   "cell_type": "code",
   "execution_count": 11,
   "id": "fd5cd365-f7dd-47a2-b6dc-48f317058acf",
   "metadata": {
    "tags": []
   },
   "outputs": [
    {
     "name": "stdout",
     "output_type": "stream",
     "text": [
      "I will walk to MUN\n"
     ]
    }
   ],
   "source": [
    "walk_to_MUN = True # define our boolean variable\n",
    "if walk_to_MUN == True: # the condition is True\n",
    "    print(\"I will walk to MUN\")\n",
    "else: # the condition is False\n",
    "    print(\"I will take the bus to MUN\")\n",
    "    "
   ]
  },
  {
   "cell_type": "markdown",
   "id": "d0805b8d-f7e1-4046-b4fd-2f6ccc682d6a",
   "metadata": {},
   "source": [
    "### Assignment vs Equality\n",
    "\n",
    "Just note that assignment and equality testing are two different operations. Assignment (`x = 1`) assigns data to a variable. Equality testing (`x == 1`) checks if something is True. These are separate concepts, do your best not to confuse them.\n"
   ]
  },
  {
   "cell_type": "markdown",
   "id": "c4b099dd-2a54-4082-b2af-cf5b0ec8229f",
   "metadata": {},
   "source": [
    "---\n",
    "### else is not always necessary\n",
    "\n",
    "You do not have to include `else` with every `if` statement. This may or may not have an effect the output of your program. Watch what happens when `else` is removed from our example.\n"
   ]
  },
  {
   "cell_type": "code",
   "execution_count": 12,
   "id": "7bef6431-d2ff-45e8-91df-d8d42db8500a",
   "metadata": {
    "tags": []
   },
   "outputs": [
    {
     "name": "stdout",
     "output_type": "stream",
     "text": [
      "I will walk to MUN\n",
      "I will take the bus to MUN\n"
     ]
    }
   ],
   "source": [
    "walk_to_MUN = True # define our boolean variable\n",
    "if walk_to_MUN == True: # the condition is True\n",
    "    print(\"I will walk to MUN\")\n",
    "print(\"I will take the bus to MUN\")\n",
    "    "
   ]
  },
  {
   "cell_type": "markdown",
   "id": "b3120369-a331-4664-a743-26c447a13401",
   "metadata": {},
   "source": [
    "Notice, that now both print statements were executed. This is most likely not authors original intentions. If there is nothing to do should the condition be False, we can omit `else`. Modifying our example above, we now have no statements should the condition be false."
   ]
  },
  {
   "cell_type": "code",
   "execution_count": 13,
   "id": "af179516-8fb3-465b-bc92-7fd588792edb",
   "metadata": {
    "tags": []
   },
   "outputs": [
    {
     "name": "stdout",
     "output_type": "stream",
     "text": [
      "I will walk to MUN\n"
     ]
    }
   ],
   "source": [
    "walk_to_MUN = True # define our boolean variable\n",
    "if walk_to_MUN == True: # the condition is True\n",
    "    print(\"I will walk to MUN\")\n",
    "\n",
    "    "
   ]
  },
  {
   "cell_type": "markdown",
   "id": "4c8de81c-df80-4f36-966d-63a7ae16d381",
   "metadata": {},
   "source": [
    "-------\n",
    "## Nested if statements\n",
    "\n",
    "We can also have an `if` statement inside another `if` statement, this is creating a nested if statements. For instance, our decision to walk to MUN could depend on if it is currently raining outside. The flow of our conditional statements might be as follows.\n"
   ]
  },
  {
   "cell_type": "code",
   "execution_count": 14,
   "id": "1ac5f70a-4f07-448e-9746-881a74e4d8f7",
   "metadata": {
    "tags": []
   },
   "outputs": [
    {
     "name": "stdout",
     "output_type": "stream",
     "text": [
      "I will walk to MUN\n"
     ]
    }
   ],
   "source": [
    "walk_to_MUN = True\n",
    "raining_outside = True\n",
    "\n",
    "if raining_outside == False:\n",
    "    if walk_to_MUN == True: \n",
    "        print(\"I will walk to MUN\")\n",
    "    else: \n",
    "        print(\"I will take the bus to MUN\")    \n",
    "else: \n",
    "    if walk_to_MUN == True: \n",
    "        print(\"I will walk to MUN\")\n",
    "    else: \n",
    "        print(\"I will take the bus to MUN\")\n"
   ]
  },
  {
   "cell_type": "markdown",
   "id": "a087bfb4",
   "metadata": {},
   "source": [
    "---\n",
    "## Summary\n",
    "\n",
    "**Boolean operators**\n",
    "\n",
    "| `A` | `not A` |\n",
    "| ---|---|\n",
    "| True | False|\n",
    "| False | True|\n",
    "\n",
    "| `A` |`B` | ` A and B` |\n",
    "| ---|---| ---| \n",
    "| True | True| True | \n",
    "| True | False|False|\n",
    "| False | True|False|\n",
    "| False | False|False|\n",
    "\n",
    "\n",
    "\n",
    "| `A` | `B` |`A or B` |\n",
    "| ---|---|---|\n",
    "|True | True | True |\n",
    "|True | False| True|\n",
    "|False| True | True|\n",
    "|False| False| False|\n",
    "\n",
    "\n",
    "\n",
    "| `A` | `B` |`A or B` |\n",
    "| ---|---|---|\n",
    "|True | True | True |\n",
    "|True | False| True|\n",
    "|False| True | True|\n",
    "|False| False| False|\n",
    "\n",
    "**Precedence for Boolean operators**\n",
    "\n",
    "The order of operations for Boolean operators is: NOT is first, AND is second, and OR is third. \n",
    "\n",
    "**Relational operators**\n",
    "\n",
    "\n",
    "| Relational Operation    | Description |\n",
    "| ----------- | ----------- |\n",
    "| `==`      | Equal   |\n",
    "| `!=`      | Not equal      |\n",
    "| `<`      | Less than       |\n",
    "| `>`      | Greater than       |\n",
    "| `<=`      | Less than or equal       |\n",
    "| `>=`      | Greater than or equal       |\n",
    "\n",
    "\n",
    "\n",
    "\n",
    "**if-statement syntax**\n",
    "\n",
    "```\n",
    "if (Conditional statement that is True or False goes here):\n",
    "    Execute this set of statements if the conditional statement is True\n",
    "else: (Optional)\n",
    "    Execute this set of statements if the conditional statement is False\n",
    "```\n"
   ]
  },
  {
   "cell_type": "markdown",
   "id": "9ff0d772",
   "metadata": {},
   "source": [
    "You have finished Chapter 3a.\n",
    "<br>Return back to the <a href = \".\\index.ipynb\">Main Page</a>"
   ]
  }
 ],
 "metadata": {
  "kernelspec": {
   "display_name": "Python 3 (ipykernel)",
   "language": "python",
   "name": "python3"
  },
  "language_info": {
   "codemirror_mode": {
    "name": "ipython",
    "version": 3
   },
   "file_extension": ".py",
   "mimetype": "text/x-python",
   "name": "python",
   "nbconvert_exporter": "python",
   "pygments_lexer": "ipython3",
   "version": "3.9.17"
  }
 },
 "nbformat": 4,
 "nbformat_minor": 5
}
