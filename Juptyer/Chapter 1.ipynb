{
 "cells": [
  {
   "cell_type": "markdown",
   "id": "8d1f8713",
   "metadata": {},
   "source": [
    "# Chapter 1\n",
    "\n",
    "Your first program!\n",
    "\n",
    "Below is our program that prints out \"Hello World!\".\n",
    "Click on it and then press the Run button to see the output.\n",
    "<br>*All of the boxes with In[ ]: will need to be run by you.*"
   ]
  },
  {
   "cell_type": "code",
   "execution_count": null,
   "id": "41462a07",
   "metadata": {},
   "outputs": [],
   "source": [
    "#my first program\n",
    "print(\"Hello World!\")"
   ]
  },
  {
   "cell_type": "markdown",
   "id": "27c6d915",
   "metadata": {},
   "source": [
    "The first line is a comment; a statement that provides descriptive information about the program to programmers which is ignored by the interpreter. Comments in Python begin with the # symbol.\n",
    "\n",
    "The second line contains a statement that prints a line of text on screen “Hello, World!”\n",
    "<br>The quotation marks are used to signify that this is a string.\n",
    "\n",
    "------\n",
    "\n",
    "Python is a case sensitive language. \n",
    "<br>Watch what happens if we make Print instead of print."
   ]
  },
  {
   "cell_type": "code",
   "execution_count": null,
   "id": "c7155b25",
   "metadata": {},
   "outputs": [],
   "source": [
    "#incorrect casing\n",
    "Print(\"Hello World!\")"
   ]
  },
  {
   "cell_type": "markdown",
   "id": "5512c9dd",
   "metadata": {},
   "source": [
    "As you can see, an error occurred because python has a function called print, but not one called Print.\n",
    "\n",
    "Watch again if we omit the quotation marks!"
   ]
  },
  {
   "cell_type": "code",
   "execution_count": null,
   "id": "c48c3b51",
   "metadata": {},
   "outputs": [],
   "source": [
    "#missing quotations\n",
    "print(Hello World!)"
   ]
  },
  {
   "cell_type": "markdown",
   "id": "2cd6cf30",
   "metadata": {},
   "source": [
    "This is a syntax error. You will run into a lot of these early on.\n",
    "\n",
    "You see, print displays information, in the form of a string, to the screen. This information should be of a specific **type**.\n",
    "<br>Some common types are integers, floating point numbers, strings, and booleans (True/False).\n",
    "<br>To signify that something is a string, it **must** be wrapped in quotation marks.\n",
    "<br>The other values have an implicit method that does that work for you.\n",
    "\n",
    "---\n",
    "\n",
    "Watch, let's display a floating point number instead!"
   ]
  },
  {
   "cell_type": "code",
   "execution_count": null,
   "id": "b3d815f8",
   "metadata": {},
   "outputs": [],
   "source": [
    "#print an approximate value of pi\n",
    "print(3.14)"
   ]
  },
  {
   "cell_type": "markdown",
   "id": "7c156c9a",
   "metadata": {},
   "source": [
    "We can even perform arithmetic inside the print function. This arithmetic is done FIRST, and then the result is displayed."
   ]
  },
  {
   "cell_type": "code",
   "execution_count": null,
   "id": "870bac2f",
   "metadata": {},
   "outputs": [],
   "source": [
    "#print the sum of 1 and 2\n",
    "print(1+2)"
   ]
  },
  {
   "cell_type": "markdown",
   "id": "2d69d3b8",
   "metadata": {},
   "source": [
    "Multiple values can be passed to the print statement. Each value will be separated by a comma, which on the screen will result in a space."
   ]
  },
  {
   "cell_type": "code",
   "execution_count": null,
   "id": "490875f6",
   "metadata": {},
   "outputs": [],
   "source": [
    "#print the answer to life, the universe, and everything\n",
    "print(\"The answer is\",42)"
   ]
  },
  {
   "cell_type": "markdown",
   "id": "aa1cab81",
   "metadata": {},
   "source": [
    "By default, the print statement displays the values and then takes us to a new line.\n",
    "<br>Look at what the code below produces!"
   ]
  },
  {
   "cell_type": "code",
   "execution_count": null,
   "id": "343c31cb",
   "metadata": {},
   "outputs": [],
   "source": [
    "print(\":)\")\n",
    "print()\n",
    "print()\n",
    "print(\":(\")"
   ]
  },
  {
   "cell_type": "markdown",
   "id": "a087bfb4",
   "metadata": {},
   "source": [
    "Now you can see that print() will print a blank line and that is all.\n",
    "\n",
    "Here is a simple example here. Try on paper to see what happens before running the code."
   ]
  },
  {
   "cell_type": "code",
   "execution_count": null,
   "id": "5fc096fa",
   "metadata": {},
   "outputs": [],
   "source": [
    "print(\"Hello\")\n",
    "print()\n",
    "print(\"World!\")"
   ]
  },
  {
   "cell_type": "markdown",
   "id": "80f3f819",
   "metadata": {},
   "source": [
    "This could had been accomplished with the newline character **\\n**.\n",
    "<br>Yes, this may look like two characters, but actually \\n is one specific character!"
   ]
  },
  {
   "cell_type": "code",
   "execution_count": null,
   "id": "558ba562",
   "metadata": {},
   "outputs": [],
   "source": [
    "print(\"Hello\\nWorld!\")"
   ]
  },
  {
   "cell_type": "markdown",
   "id": "5e4fc251",
   "metadata": {},
   "source": [
    "Finish the following program that displays the following:\n",
    "\n",
    "Hello, my name is [yourname]\n",
    "<br>The product of my two favourite numbers is [favnumber1 * favnumber2].\n",
    "\n",
    "Be sure to use multiplication in your result!"
   ]
  },
  {
   "cell_type": "code",
   "execution_count": null,
   "id": "d3acbd21",
   "metadata": {},
   "outputs": [],
   "source": [
    "#first print statement\n",
    "\n",
    "#second print statement\n"
   ]
  },
  {
   "cell_type": "markdown",
   "id": "99b143c7",
   "metadata": {},
   "source": [
    "Psuedocode is presenting an algorithm in English with some programming aspects to it. It is like a halfway language.\n",
    "\n",
    "An algorithm is a step-by-step process that is Unambigious, Computable/Executable, and Terminates.\n",
    "<br>Given the following algorithm in pseudocode, write the Python code to execute it.\n",
    "\n",
    "1. Print, on its own line, the greeting 'Good Day' to the user.\n",
    "2. Have two lines of blank space.\n",
    "3. Print, with each word having its own line, the farewell 'See you soon'."
   ]
  },
  {
   "cell_type": "code",
   "execution_count": null,
   "id": "e5c9dea5",
   "metadata": {},
   "outputs": [],
   "source": [
    "#Print, on its own line, the greeting 'Good Day' to the user.\n",
    "\n",
    "#Have two lines of blank space.\n",
    "\n",
    "#Print, with each word having its own line, the farewell 'See you soon'."
   ]
  },
  {
   "cell_type": "markdown",
   "id": "9ff0d772",
   "metadata": {},
   "source": [
    "You are done Chapter 1.\n",
    "<br>Return back to the <a href = \".\\index.ipynb\">Main Page</a>"
   ]
  }
 ],
 "metadata": {
  "kernelspec": {
   "display_name": "Python 3 (ipykernel)",
   "language": "python",
   "name": "python3"
  },
  "language_info": {
   "codemirror_mode": {
    "name": "ipython",
    "version": 3
   },
   "file_extension": ".py",
   "mimetype": "text/x-python",
   "name": "python",
   "nbconvert_exporter": "python",
   "pygments_lexer": "ipython3",
   "version": "3.9.0"
  }
 },
 "nbformat": 4,
 "nbformat_minor": 5
}
