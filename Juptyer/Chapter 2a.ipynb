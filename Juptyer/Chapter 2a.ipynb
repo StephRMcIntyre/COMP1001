{
 "cells": [
  {
   "cell_type": "code",
   "execution_count": null,
   "id": "7c3916d0",
   "metadata": {},
   "outputs": [],
   "source": [
    "%load_ext nb_mypy \n",
    "#you may opt to run this piece of code.\n",
    "#The package can be installed by typing in your Terminal:\n",
    "#             python3 -m pip install nb_mypy"
   ]
  },
  {
   "cell_type": "markdown",
   "id": "8d1f8713",
   "metadata": {},
   "source": [
    "# Chapter 2a - Variables\n",
    "\n",
    "A **variable** is a named storage location in a computer program\n",
    "that is used in order to store many different types of data.\n",
    "<br>For example, numbers, characters, etc.\n",
    "\n",
    "\n",
    "You ‘define’ a variable by telling the program:\n",
    "<br>• What name you will use to refer to it and\n",
    "<br>• The initial value of the variable.\n",
    "\n",
    "You use an **assignment statement** to place a value into a\n",
    "variable, and therefore define a variable.\n",
    "\n",
    "A single equal sign denotes a variable assignment.\n",
    "<br>The syntax is **variableName** = **expression**"
   ]
  },
  {
   "cell_type": "code",
   "execution_count": null,
   "id": "41462a07",
   "metadata": {},
   "outputs": [],
   "source": [
    "#the variable name answer is assigned the value 42\n",
    "answer = 42\n",
    "print(answer)"
   ]
  },
  {
   "cell_type": "markdown",
   "id": "27c6d915",
   "metadata": {},
   "source": [
    "As you can see above, once we have assigned a value to a variable, we can call that variable later to get the value.\n",
    "\n",
    "**Beware:** The “=” sign is NOT used for comparison.\n",
    "<br>= sets the value on the right side to the variable on the left side.\n",
    "\n",
    "Before running the code below, write on paper what the output will be."
   ]
  },
  {
   "cell_type": "code",
   "execution_count": null,
   "id": "c7155b25",
   "metadata": {},
   "outputs": [],
   "source": [
    "noOfApples = 2\n",
    "noOfBananas = 3\n",
    "noOfFruit = noOfApples + noOfBananas\n",
    "\n",
    "print(\"I have\", noOfFruit, \"pieces of fruit.\")"
   ]
  },
  {
   "cell_type": "markdown",
   "id": "5512c9dd",
   "metadata": {},
   "source": [
    "Variables are names that reference objects.\n",
    "<br>Their names **should** describe the purpose of the variable.\n",
    "\n",
    "For example, **velocity** is better than **v**.\n",
    "\n",
    "This is especially important when you work on code that will be read by others.\n",
    "\n",
    "Try to understand the code below."
   ]
  },
  {
   "cell_type": "code",
   "execution_count": null,
   "id": "c48c3b51",
   "metadata": {},
   "outputs": [],
   "source": [
    "a = 1.25\n",
    "aa = 5\n",
    "aaa = a*aa\n",
    "aaaa = 20\n",
    "aaaaa = aaaa - aaa\n",
    "print(\"Here, you have $\", aaaaa, \"in change.\")"
   ]
  },
  {
   "cell_type": "markdown",
   "id": "2cd6cf30",
   "metadata": {},
   "source": [
    "While it might not be that hard in this short program to understand what is going on, it shouldn't have to take any deduction to figure it out! \n",
    "\n",
    "**Code should be readable**.\n",
    "\n",
    "---\n",
    "\n",
    "The above code was supposed to simulate a customer who gave 20 dollars towards buying 5 chocolate bars priced at 1.25 each, and the change they would recieve in return. Here it is again."
   ]
  },
  {
   "cell_type": "code",
   "execution_count": null,
   "id": "b3d815f8",
   "metadata": {},
   "outputs": [],
   "source": [
    "priceChocolateBar = 1.25\n",
    "quantityChocolateBar = 5\n",
    "totalPurchasePrice = priceChocolateBar * quantityChocolateBar\n",
    "moneyGiven = 20\n",
    "change = moneyGiven - totalPurchasePrice\n",
    "print(\"Here, you have $\", change, \"in change.\")"
   ]
  },
  {
   "cell_type": "markdown",
   "id": "7c156c9a",
   "metadata": {},
   "source": [
    "See the difference!\n",
    "<br>This is how you should have your variable names.\n",
    "\n",
    "-----\n",
    "\n",
    "**Variable Naming:**\n",
    "1. Variable names start with a letter or the underscore ( _ ) character and can continue with letters (upper or lower case), digits or the underscore. \n",
    "2. You cannot use other symbols (?, %, etc.) or blanks (spaces).\n",
    "3. Use upper case letters to signify word boundaries: “canVolume”\n",
    "4. Don’t use “reserved” Python words. i.e. print (see Appendix C, pages A6 and A7)\n",
    "\n",
    "-----\n",
    "\n",
    "Fix the variable names below. \n",
    "<br>You may want to run it first to see where the syntax errors are.\n",
    "<br>Then run it again, repeating this process until all the errors are gone.\n"
   ]
  },
  {
   "cell_type": "code",
   "execution_count": null,
   "id": "870bac2f",
   "metadata": {},
   "outputs": [],
   "source": [
    "#grocery list and cost of each item\n",
    "12eggs = 2.09\n",
    "liter-milk = $4.00\n",
    "ramen6pack = 1.99\n",
    "14oz.juice = 3.19\n",
    "\n",
    "#total cost of grocery trip\n",
    "grocery cost = 12eggs + liter-milk + ramen6pack + 14oz.juice\n",
    "print(grocery cost)"
   ]
  },
  {
   "cell_type": "markdown",
   "id": "6872a837",
   "metadata": {},
   "source": [
    "The answer should be 11.27, which is not bad for St. John's."
   ]
  },
  {
   "cell_type": "markdown",
   "id": "2d69d3b8",
   "metadata": {},
   "source": [
    "-----\n",
    "**Data Types**\n",
    "There are 3 different data types we will use in this chapter:\n",
    "1. Integers (no fractional part) 7 (int)\n",
    "2. Reals (with a fractional part) 8.88 (float)\n",
    "3. Strings (sequence of characters) “Bob” (str)\n",
    "\n",
    "The data type is associated with the value of the variable and not the variable name.\n",
    "\n",
    "It is good practice to use a variable for a specific type. Mixing these up can cause errors later on.\n",
    "<br>Below we will run into a Type Error when we try to add 2 to a string. "
   ]
  },
  {
   "cell_type": "code",
   "execution_count": null,
   "id": "490875f6",
   "metadata": {},
   "outputs": [],
   "source": [
    "age = 18\n",
    "age = age + 2\n",
    "age = \"20\"\n",
    "age = age + 2"
   ]
  },
  {
   "cell_type": "markdown",
   "id": "aa1cab81",
   "metadata": {},
   "source": [
    "While it is not necessary in Python, it is good practice to declare the variable types. \n",
    "<br>This will reduce the amount of Type Errors and make you a better programmer.\n",
    "<br>Python won't enforce the types, but other programming languages such as C++ will."
   ]
  },
  {
   "cell_type": "code",
   "execution_count": null,
   "id": "343c31cb",
   "metadata": {},
   "outputs": [],
   "source": [
    "#variable age as an integer and assign it the value 18\n",
    "age : int = 18\n",
    "\n",
    "#variable fruitType as a string and assign it the value \"banana\"\n",
    "fruitType1 : str = \"banana\" \n",
    "    \n",
    "#variable fruitType as a string and assign it the value \"banana\"\n",
    "fruitType2 : str = 'banana'\n",
    "\n",
    "#variable canVolume as a float and assign it the value 0.355\n",
    "canVolume : float = 0.355\n",
    "    \n",
    "#variable canVolume as a float and assign it the value 0.355\n",
    "aMillion : float = 1E6"
   ]
  },
  {
   "cell_type": "markdown",
   "id": "a087bfb4",
   "metadata": {},
   "source": [
    "Try adding print statements to display the values.\n",
    "<br>You will notice that it does not print out the types. \n",
    "<br>The type declarations are just to improve **code readability**.\n",
    "\n",
    "-----\n",
    "Determine the output for the following before running it."
   ]
  },
  {
   "cell_type": "code",
   "execution_count": null,
   "id": "5fc096fa",
   "metadata": {},
   "outputs": [],
   "source": [
    "age : int = 18\n",
    "age = age + 2\n",
    "age = age * 2\n",
    "print(age)"
   ]
  },
  {
   "cell_type": "markdown",
   "id": "5bb045fa",
   "metadata": {},
   "source": [
    "Types can be declared at the same time as assignment or prior.\n",
    "<br>Below is a valid alternative to the above piece of code."
   ]
  },
  {
   "cell_type": "code",
   "execution_count": null,
   "id": "9532dbb8",
   "metadata": {},
   "outputs": [],
   "source": [
    "age : int \n",
    "age = 18\n",
    "age = age + 2\n",
    "age = age * 2\n",
    "print(age)"
   ]
  },
  {
   "cell_type": "markdown",
   "id": "bbe6ec97",
   "metadata": {},
   "source": [
    "Again, while Python will allow us to \"change the type\", we should avoid this as it would lead to less readable code.\n",
    "<br>See how Python has no issues with this piece of code."
   ]
  },
  {
   "cell_type": "code",
   "execution_count": null,
   "id": "5ca19092",
   "metadata": {},
   "outputs": [],
   "source": [
    "age : int = 18\n",
    "age = \"banana\"\n",
    "print(age)\n",
    "#it all boils down to having meaningful variable names!\n",
    "\n",
    "#note, if you have nb_mypy executed (the first line in this notebook page), then you will see \"incompatable types\".\n",
    "#otherwise, there will be no errors at all."
   ]
  },
  {
   "cell_type": "markdown",
   "id": "80f3f819",
   "metadata": {},
   "source": [
    "**Constants**:\n",
    "\n",
    "In Python a constant is a variable whose value should not be changed after it’s assigned an initial value.\n",
    "\n",
    "*Constants are not Python types; we’re faking it.*\n",
    "<br>So we rely on the style of naming a constant:\n",
    "<br>• Naming constants by UPPER_CASE letters is a nice visual cue in order to distinguish them from variables.\n",
    "<br>• Constants are used in many other programming languages, i.e. C, C++, Java. Hence we are learning about them.\n",
    "\n",
    "Python will let you do many controversial things, for example, change the value of a constant, but just because you can do it, doesn’t mean you should do it.\n"
   ]
  },
  {
   "cell_type": "code",
   "execution_count": null,
   "id": "558ba562",
   "metadata": {},
   "outputs": [],
   "source": [
    "#Code to determine how many eggs I have.\n",
    "\n",
    "#Constants\n",
    "DOZEN: int = 12 #This is a constant as a dozen is always 12.\n",
    "\n",
    "#Variables\n",
    "packsOfEggs: int = 3 #This is a variable as it could change in the future.\n",
    "\n",
    "#Computations\n",
    "numberOfEggs: int = packsOfEggs * DOZEN\n",
    "\n",
    "#Output\n",
    "print(\"You have\", numberOfEggs,\"eggs. Now go make an omelette!\")"
   ]
  },
  {
   "cell_type": "markdown",
   "id": "5e4fc251",
   "metadata": {},
   "source": [
    "As you can see above, we used comments to separate chunks of our code.\n",
    "<br>We use comments at the beginning of each program, and to clarify details of the code:\n",
    "<br>• Comments add explanations for others who read your code, and they are a way to document your thinking.\n",
    "<br>• The compiler ignores comments.\n",
    "\n",
    "Document the code below!"
   ]
  },
  {
   "cell_type": "code",
   "execution_count": null,
   "id": "d3acbd21",
   "metadata": {},
   "outputs": [],
   "source": [
    "TAX : float = 0.15\n",
    "costTicket : float = 435.10\n",
    "numOfTickets : int = 4\n",
    "cost : float = costTicket * numOfTickets\n",
    "finalCost : float = cost + cost * TAX\n",
    "print(\"Purchasing\", numOfTickets, \"plane tickets plus tax is\", finalCost)"
   ]
  },
  {
   "cell_type": "markdown",
   "id": "fa31a345",
   "metadata": {},
   "source": [
    "<a href = \".\\Chapter 2b.ipynb\">Continue</a> with Chapter 2.\n",
    "<br>Return back to the <a href = \".\\index.ipynb\">Main Page</a>"
   ]
  }
 ],
 "metadata": {
  "kernelspec": {
   "display_name": "Python 3 (ipykernel)",
   "language": "python",
   "name": "python3"
  },
  "language_info": {
   "codemirror_mode": {
    "name": "ipython",
    "version": 3
   },
   "file_extension": ".py",
   "mimetype": "text/x-python",
   "name": "python",
   "nbconvert_exporter": "python",
   "pygments_lexer": "ipython3",
   "version": "3.9.0"
  }
 },
 "nbformat": 4,
 "nbformat_minor": 5
}
