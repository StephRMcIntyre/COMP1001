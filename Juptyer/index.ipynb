{
 "cells": [
  {
   "cell_type": "markdown",
   "id": "0c63bedc",
   "metadata": {},
   "source": [
    "Chapter 1\n",
    "- <a href = \".\\Chapter 1.ipynb\">Introduction</a>\n",
    "\n",
    "Chapter 2\n",
    "- <a href = \".\\Chapter 2a.ipynb\">Variables</a>\n",
    "- <a href = \".\\Chapter 2b.ipynb\">Arithmetic</a>\n",
    "- <a href = \".\\Chapter 2c.ipynb\">Modules</a>\n",
    "- <a href = \".\\Chapter 2d.ipynb\">Strings</a>\n",
    "- <a href = \".\\Chapter 2e.ipynb\">Input/Output</a>"
   ]
  }
 ],
 "metadata": {
  "kernelspec": {
   "display_name": "Python 3 (ipykernel)",
   "language": "python",
   "name": "python3"
  },
  "language_info": {
   "codemirror_mode": {
    "name": "ipython",
    "version": 3
   },
   "file_extension": ".py",
   "mimetype": "text/x-python",
   "name": "python",
   "nbconvert_exporter": "python",
   "pygments_lexer": "ipython3",
   "version": "3.9.0"
  }
 },
 "nbformat": 4,
 "nbformat_minor": 5
}
