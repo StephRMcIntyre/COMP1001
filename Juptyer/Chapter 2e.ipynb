{
 "cells": [
  {
   "cell_type": "code",
   "execution_count": null,
   "id": "41dc5f38",
   "metadata": {},
   "outputs": [],
   "source": [
    "%load_ext nb_mypy \n",
    "#you may opt to run this piece of code.\n",
    "#The package can be installed by typing in your Terminal:\n",
    "#             python3 -m pip install nb_mypy"
   ]
  },
  {
   "cell_type": "markdown",
   "id": "8d1f8713",
   "metadata": {},
   "source": [
    "# Chapter 2e - Input/Output\n",
    "\n",
    "**Reading Input**\n",
    "\n",
    "Use the input() function as to collect input from the user.\n",
    "<br>It is good practice to put a string inside the parenthesis to inform the user what data they ought to input."
   ]
  },
  {
   "cell_type": "code",
   "execution_count": null,
   "id": "41462a07",
   "metadata": {},
   "outputs": [],
   "source": [
    "username = input(\"Enter your name: \")\n",
    "\n",
    "print(\"Hello \" + username + \", nice to meet you!\")"
   ]
  },
  {
   "cell_type": "markdown",
   "id": "27c6d915",
   "metadata": {},
   "source": [
    "Finish the code below."
   ]
  },
  {
   "cell_type": "code",
   "execution_count": null,
   "id": "c7155b25",
   "metadata": {},
   "outputs": [],
   "source": [
    "#collect user's name\n",
    "username = \n",
    "\n",
    "#collect the user's course, i.e. COMP 1001\n",
    "coursecode = \n",
    "\n",
    "#collect the user's final grade in that course\n",
    "#make sure to display the course in the input () by using variables and either string concatenation or ,\n",
    "finalgrade = \n",
    "\n",
    "#print their name, course, and final score\n",
    "print()\n",
    "\n",
    "#For example, if I enter the full name 'Steph McIntyre', the course 'COMP 1002' and the final score '81'\n",
    "#then the user input/output text after you run the code should look like:\n",
    "#   Enter your full name: Steph\n",
    "#   Enter your course: COMP 1001\n",
    "#   Enter your final grade for COMP 1001: 81\n",
    "#   Steph, your final score in COMP 1001 was 81."
   ]
  },
  {
   "cell_type": "markdown",
   "id": "5512c9dd",
   "metadata": {},
   "source": [
    "**Input always defaults as a string type.**\n",
    "\n",
    "Meaning, if we want to collect an integer/float, then we need to **cast** it as an integer/float.\n",
    "\n",
    "Run the code below and fix the errors as described."
   ]
  },
  {
   "cell_type": "code",
   "execution_count": null,
   "id": "86c39f42",
   "metadata": {},
   "outputs": [],
   "source": [
    "#the following will have an error\n",
    "#to fix the error, we need to cast the input as an integer\n",
    "#age = int(input(\"Enter your age: \"))\n",
    "age = input(\"Enter your age: \")\n",
    "print(\"Next year you will be\", age+1)\n",
    "\n",
    "#This will also produce an error\n",
    "#the cast should happen AFTER the input occurs. The nested function call happens FIRST.\n",
    "#right now it is trying to cast \"Enter your height: \" as a float\n",
    "#it should instead be\n",
    "#height = float(input(\"Enter your height: \"))\n",
    "height = input(float(\"Enter your height: \"))\n",
    "print(\"Your height next year will be\", height + 0.5)"
   ]
  },
  {
   "cell_type": "markdown",
   "id": "9e7cbd01",
   "metadata": {},
   "source": [
    "**Output**\n",
    "\n",
    "Python provides a special argument for the print function that does not start a new line after the output is displayed, and it is used when we want to print items on the same line using multiple print statements.\n",
    "<br>In fact, we can specify what we want a string to end with by having ,end = string"
   ]
  },
  {
   "cell_type": "code",
   "execution_count": null,
   "id": "fc2c73b4",
   "metadata": {},
   "outputs": [],
   "source": [
    "print(\"James Bond\", end = \" 007\\n\")\n",
    "print(\"Hello\", end = \" \")\n",
    "print(\"World\", end = \"!\\n\")"
   ]
  },
  {
   "cell_type": "code",
   "execution_count": null,
   "id": "470bddd9",
   "metadata": {},
   "outputs": [],
   "source": [
    "#add to the print statements so the code outputs 3.. 2.. 1.. LIFT OFF!\n",
    "#do not erase or comment out any line of code\n",
    "#do not add any new print statements, only add inside the existing print statements\n",
    "print(\"3\")\n",
    "print(\"2\")\n",
    "print(\"1\",end=\"\\n\")"
   ]
  },
  {
   "cell_type": "markdown",
   "id": "e0f07600",
   "metadata": {},
   "source": [
    "**The % operator is another example of operator overloading**.\n",
    "<br>Outside a string it could be the modulus operator as shown earlier.\n",
    "<br>Inside a string however, it can be used to format a set of variables enclosed in a tuple, e.g. (a,b,c,...,w), together with a format string. \n",
    "<br>The latter contains text together with argument specifiers, special symbols like %s, %d and %f.\n",
    "<br>The s signifies string, d signifies decimal (like an int), and f signifies float."
   ]
  },
  {
   "cell_type": "code",
   "execution_count": null,
   "id": "c48c3b51",
   "metadata": {},
   "outputs": [],
   "source": [
    "name = \"Deadpool\"\n",
    "age = 9000\n",
    "careAmount = 0.0001\n",
    "\n",
    "#Notice that between the string and the pink %, there is no comma.\n",
    "#Additionally, notice the order of the items name,age,careAmount after the pink %\n",
    "#This will be the order of which they appear in the % in the string.\n",
    "#The first % in the string is the %s, which corresponds to the first item in the tuple: name\n",
    "#The second % in the string is the %d, which corresponds to the second item in the tuple: age\n",
    "#The third % in the string is the %f, which corresponds to the third item in the tuple: careAmount\n",
    "#There are no more % in the string, and so there should be no more in items in the tuple.\n",
    "print(\"My name is %s and I'm %d years old and I care THIS much %f\" %(name,age,careAmount))"
   ]
  },
  {
   "cell_type": "code",
   "execution_count": null,
   "id": "a044b98c",
   "metadata": {},
   "outputs": [],
   "source": [
    "firstname = \"Tony\"\n",
    "lastname = \"Stark\"\n",
    "\n",
    "#enter the variables in the appropriate place to have it print \"His name is Tony Stark\"\n",
    "print(\"His name is %s %s\" %())\n",
    "#enter the variables in the appropriate place to have it print \"His name is Stark, Tony.\"\n",
    "print(\"His name is %s, %s\" %())"
   ]
  },
  {
   "cell_type": "code",
   "execution_count": null,
   "id": "dad2023a",
   "metadata": {},
   "outputs": [],
   "source": [
    "#fix the errors!\n",
    "\n",
    "#variables\n",
    "course = \"COMP 1001\"\n",
    "opinions = \"It's pretty fun.\"\n",
    "gradeCOMP1001 = int(input(\"Enter your grade for COMP 1001:\"))\n",
    "gradeCOMP1002 = int(input(\"Enter your grade for COMP 1002:\"))\n",
    "\n",
    "#computations\n",
    "average = gradeCOMP1001 + gradeCOMP1002 / 2\n",
    "\n",
    "#output\n",
    "print(average)\n",
    "print(\"You found %s to be '%s'\", %(opinions,course))\n",
    "print(\"You had an average of %d.\", % average)\n",
    "#the average in the first print statement should be the same as the average in the third print statement."
   ]
  },
  {
   "cell_type": "markdown",
   "id": "c24c1bb1",
   "metadata": {},
   "source": [
    "**Formatting Output**\n",
    "\n",
    "We can format the strings to have specific widths, alignments, and decimal places!\n",
    "\n",
    "%**width** *type*    i.e. %8s\n",
    "<br>If width is negative, then it is left justified.\n",
    "<br>Else if width is positive, then it is right justified.\n",
    "<br>The absolute value of width is the width of the string with respect to spacing.\n",
    "<br>If the length of your string is bigger than the value of width, then no alignment happens."
   ]
  },
  {
   "cell_type": "code",
   "execution_count": null,
   "id": "021835b3",
   "metadata": {},
   "outputs": [],
   "source": [
    "hello = \"hello\"\n",
    "world = \"world!\"\n",
    "\n",
    "#the details of hello\n",
    "print(\"The length of %s is %d.\\n\" %(hello,len(hello)))\n",
    "\n",
    "#give the width of 10 spaces and right align it with world following it\n",
    "print(\"%10s %s\" %(hello,world))\n",
    "print(\"See how the end of hello is right besides the next char in the print string (empty space).\\n\")\n",
    "\n",
    "#give the width of 10 spaces and left align it with world following it\n",
    "print(\"%-10s %s\" %(hello,world))\n",
    "print(\"See how the end of hello has 5 extra spaces until the next char in the print string (empty space).\\n\")\n",
    "\n",
    "#put width at 2 just to see how it has no effect on the output\n",
    "print(\"%2s %s\" %(hello,world))"
   ]
  },
  {
   "cell_type": "markdown",
   "id": "2cd6cf30",
   "metadata": {},
   "source": [
    "**Formatting Output**\n",
    "\n",
    "f types can have the amount of decimal places specificed.\n",
    "\n",
    "%**width.dec** *type*    i.e. %8.2s\n",
    "<br>dec must be non-negative.\n",
    "<br>dec is the number of decimal places the float has.\n",
    "<br>This still adheres to the width value from num\n",
    "<br>If the length of your string is bigger than the value of num, then no alignment happens."
   ]
  },
  {
   "cell_type": "code",
   "execution_count": null,
   "id": "b3d815f8",
   "metadata": {},
   "outputs": [],
   "source": [
    "piApprox = 3.141593\n",
    "\n",
    "print(\"%f has the length %d.\" %(piApprox,len(str(piApprox))))\n",
    "#we can restrict it to a specific width, say 5, however, if its less than the length, then it does nothing\n",
    "print(\"This will have no effect: %5f.\" %piApprox)\n",
    "#we can restrict it to a specific width, say 15, then we can align it to the left!\n",
    "print(\"Left aligned with 15 spaces: %-15f.\" %pi)\n",
    "#we can restrict it to a specific width, say 15, then we can align it to the right!\n",
    "print(\"Right aligned with 15 spaces: %15f.\" %pi)\n",
    "\n",
    "#give the width of 15 spaces, but with only 2 decimal places\n",
    "print(\"Right aligned with 15 spaces and only 2 decimal places: %15.2f.\" %piApprox)\n",
    "#Oh, if we cut the decimal places, then this will shorten piApprox, so a width of 5 has effect now!\n",
    "print(\"Right aligned with  5 spaces and only 2 decimal places: %5.2f.\" %piApprox)\n",
    "print(\"Left aligned with   5 spaces and only 2 decimal places: %-5.2f.\" %piApprox)"
   ]
  },
  {
   "cell_type": "markdown",
   "id": "53ea49c5",
   "metadata": {},
   "source": [
    "-----\n",
    "Write code below that takes the three dimensions of a rectangular prism.\n",
    "\n",
    "Calculate the surface area (remember it is the sum of the face areas) and calculate the volume.\n",
    "<br>Display the output of the values formatted to 2 decimal places and have it right-aligned.\n",
    "<br>Ensure that it says \"Surface Area:\" and the next line also says \"Volume:\" but the values line up PERFECTLY.\n",
    "<br>Don't manually count the spaces and enter them, instead use formatting!"
   ]
  },
  {
   "cell_type": "code",
   "execution_count": null,
   "id": "62be8444",
   "metadata": {},
   "outputs": [],
   "source": [
    "#input, as floats\n",
    "\n",
    "\n",
    "#calculations\n",
    "\n",
    "\n",
    "#outputs with formatting\n",
    "#i.e, your output should look similar to\n",
    "#   Surface Area:   100.91\n",
    "#         Volume:   871.32"
   ]
  },
  {
   "cell_type": "markdown",
   "id": "dcc4a40f",
   "metadata": {},
   "source": [
    "You have finished Chapter 2.\n",
    "<br>Return back to the <a href = \".\\index.ipynb\">Main Page</a>"
   ]
  }
 ],
 "metadata": {
  "kernelspec": {
   "display_name": "Python 3 (ipykernel)",
   "language": "python",
   "name": "python3"
  },
  "language_info": {
   "codemirror_mode": {
    "name": "ipython",
    "version": 3
   },
   "file_extension": ".py",
   "mimetype": "text/x-python",
   "name": "python",
   "nbconvert_exporter": "python",
   "pygments_lexer": "ipython3",
   "version": "3.9.0"
  }
 },
 "nbformat": 4,
 "nbformat_minor": 5
}
