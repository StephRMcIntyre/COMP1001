{
 "cells": [
  {
   "cell_type": "code",
   "execution_count": null,
   "id": "41dc5f38",
   "metadata": {},
   "outputs": [],
   "source": [
    "%load_ext nb_mypy \n",
    "#you may opt to run this piece of code.\n",
    "#The package can be installed by typing in your Terminal:\n",
    "#             python3 -m pip install nb_mypy"
   ]
  },
  {
   "cell_type": "markdown",
   "id": "8d1f8713",
   "metadata": {},
   "source": [
    "# Chapter 2d - Strings\n",
    "\n",
    "**Strings**\n",
    "\n",
    "Characters are symbols such as letters, numbers, punctuation marks, spaces, etc.\n",
    "<br>A string is a sequence of characters.\n",
    "<br>In Python, string literals are specified by enclosing a sequence of characters within a matching pair of either single or double quotes."
   ]
  },
  {
   "cell_type": "code",
   "execution_count": null,
   "id": "41462a07",
   "metadata": {},
   "outputs": [],
   "source": [
    "print(\"This is a string\",'and so is this.')"
   ]
  },
  {
   "cell_type": "markdown",
   "id": "27c6d915",
   "metadata": {},
   "source": [
    "By allowing both types of delimiters, Python makes it easy to include an apostrophe or quotation mark within a string."
   ]
  },
  {
   "cell_type": "code",
   "execution_count": null,
   "id": "c7155b25",
   "metadata": {},
   "outputs": [],
   "source": [
    "message1 = 'He said \"Hello\"'\n",
    "message2 = \"She said 'Goodbye'\"\n",
    "print(message1)\n",
    "print(message2)"
   ]
  },
  {
   "cell_type": "markdown",
   "id": "5512c9dd",
   "metadata": {},
   "source": [
    "It is important to not mix these types up.\n",
    "<br>message = ‘Hello World”\n",
    "<br>this produces an error!\n",
    "\n",
    "----\n",
    "The **number of characters** in a string is called the **length** of the string.\n",
    "<br>You can compute the length of a string using Python’s len() function.\n",
    "\n",
    "Figure out the length of each of the strings below prior to running the code."
   ]
  },
  {
   "cell_type": "code",
   "execution_count": null,
   "id": "c48c3b51",
   "metadata": {},
   "outputs": [],
   "source": [
    "#A typical string...\n",
    "mystring = \"Hello\"\n",
    "print('The length of',mystring,'is',len(mystring))\n",
    "\n",
    "#Remember, \\n is one character!\n",
    "newlines = 'A\\nB\\nC\\nD'\n",
    "print(\"The length of\",newlines,\"is\",len(newlines))\n",
    "\n",
    "#The empty string is the string with NO characters at all\n",
    "empty = \"\"\n",
    "print(\"The length of\",empty,\"is\",len(empty))\n",
    "\n",
    "#Don't confuse the empty string with a string containing a space\n",
    "notEmpty = ' '\n",
    "print('The length of',notEmpty,'is',len(notEmpty))"
   ]
  },
  {
   "cell_type": "markdown",
   "id": "2cd6cf30",
   "metadata": {},
   "source": [
    "**String Operations**\n",
    "\n",
    "Concatenation **+**: You can ‘add’ one String onto the end of another.\n",
    "\n",
    "String repetition **\\***: You can produce a string that is the result of repeating a string multiple times.\n",
    "\n",
    "Additionally, we can cast many objects such as integers and floats to strings by wrapping them in str()\n",
    "\n",
    "*Note: Using +, or * to concatenate or repeat strings isan example of the concept of operator overloading.\n",
    "<br>The +, * operators perform different functions on variables of different types.*\n"
   ]
  },
  {
   "cell_type": "code",
   "execution_count": null,
   "id": "b3d815f8",
   "metadata": {},
   "outputs": [],
   "source": [
    "hello = \"Hello\"\n",
    "world = \"World\"\n",
    "space = ' '\n",
    "\n",
    "#string concatenation\n",
    "helloWorld = hello + space + world + '!'\n",
    "print(helloWorld)\n",
    "\n",
    "#string repetition\n",
    "print(hello*3 + '!')\n",
    "\n",
    "theanswer = 42\n",
    "#this will result in error\n",
    "#print(\"Answer\" + theanswer)\n",
    "\n",
    "#but this won't\n",
    "print(\"Answer\" + str(theanswer))\n",
    "\n",
    "#repetition and concatenation\n",
    "#try to work this out on paper before seeing the results\n",
    "exclaim = '!'\n",
    "fullString1 = helloWorld + exclaim*2\n",
    "#vs\n",
    "fullString2 = (helloWorld + exclaim)*2\n",
    "print(fullString1)\n",
    "print(fullString2)"
   ]
  },
  {
   "cell_type": "markdown",
   "id": "7c156c9a",
   "metadata": {},
   "source": [
    "We can access specific elements in our string.\n",
    "<br>In python, the first element is at index 0.\n",
    "<br>We can access the element by the syntax string[index]"
   ]
  },
  {
   "cell_type": "code",
   "execution_count": null,
   "id": "870bac2f",
   "metadata": {},
   "outputs": [],
   "source": [
    "hello = \"Hello\"\n",
    "\n",
    "#first char\n",
    "firstCharInHello = hello[0]\n",
    "\n",
    "#last char - there are a few ways to do this\n",
    "#first is get the length of our string and subtract 1\n",
    "lastCharInHello = hello[len(hello) - 1]\n",
    "print(lastCharInHello)\n",
    "\n",
    "#This is because the length here is 5\n",
    "#  H  e  l  l  o\n",
    "#  0  1  2  3  4\n",
    "#and we can clearly see that the o is the 4th index, which is one less than the length.\n",
    "\n",
    "#Alternatively, we can use -1\n",
    "lastCharInHello = hello[-1]\n",
    "print(lastCharInHello)\n",
    "#This is because it \"wraps\" around when we go backwards.\n",
    "#   H   e   l   l   o\n",
    "#  -5  -4  -3  -2  -1\n",
    "print(hello[-5])"
   ]
  },
  {
   "cell_type": "code",
   "execution_count": null,
   "id": "a0d0d400",
   "metadata": {},
   "outputs": [],
   "source": [
    "#Now we cannot access something out of range.\n",
    "#See what happens below...\n",
    "#If you find an error, comment it out and run again.\n",
    "world = \"world\"\n",
    "\n",
    "print(world[5])\n",
    "\n",
    "print(world[-6])"
   ]
  },
  {
   "cell_type": "markdown",
   "id": "92d1c247",
   "metadata": {},
   "source": [
    "This is because there are no elements after the last character in the string and there is nothing before!\n",
    "\n",
    "Using only the given variables (do not add any extra strings!), create the output \"bunny\""
   ]
  },
  {
   "cell_type": "code",
   "execution_count": null,
   "id": "b3d00e22",
   "metadata": {},
   "outputs": [],
   "source": [
    "first = \"yaks are neat\"\n",
    "second = \"uck!\"\n",
    "\n",
    "#create the string bunny here using only the elements given, string concatenation, and string repetition\n",
    "bunny = \n",
    "\n",
    "print(bunny)"
   ]
  },
  {
   "cell_type": "markdown",
   "id": "6872a837",
   "metadata": {},
   "source": [
    "Arithmetic can also be done inside the element access square brackets.\n",
    "<br>Just make sure you do not go out of bounds!"
   ]
  },
  {
   "cell_type": "code",
   "execution_count": null,
   "id": "6e2c58f7",
   "metadata": {},
   "outputs": [],
   "source": [
    "mystring = \"abcdef\"\n",
    "\n",
    "#here I used modulo to ensure that I won't access outside of my array as it will produce values 0 <= v < len(mystring)\n",
    "print(mystring[9%len(mystring)])\n",
    "print(mystring[2%len(mystring)])\n",
    "print(mystring[-200%len(mystring)])\n",
    "\n",
    "#Try it yourself!\n"
   ]
  },
  {
   "cell_type": "markdown",
   "id": "34697076",
   "metadata": {},
   "source": [
    "**Slicing**\n",
    "\n",
    "We can grab substrings of our strings by use of slicing.\n",
    "<br>The syntax is string[start : end : step]\n",
    "1. The start is the starting position for the slice. It is included in the result. It is not mandatory.\n",
    "<br>        If you choose to omit this, then the default will be the start of the string.\n",
    "2. The end is the ending position for the slice. It is **not** included in the result. It is not mandatory. \n",
    "<br>        If you choose to omit this, then the default will go up to and including the last element of the string.\n",
    "3. The step is the steps between the letters we wish to grab. It is not mandatory.\n",
    "<br>        If you choose to omit this, then the default will be 1."
   ]
  },
  {
   "cell_type": "code",
   "execution_count": null,
   "id": "223d12c7",
   "metadata": {},
   "outputs": [],
   "source": [
    "mystring = \"This chapter never ends.\"\n",
    "\n",
    "#let's start from index 1\n",
    "print(\"Remember, indexing starts at 0:\",mystring[1::])\n",
    "\n",
    "#let's start from index 1 and stop before the sixth element from the back\n",
    "print(\"Does this include the empty space after never or not:\", mystring[1:-6:])\n",
    "\n",
    "#start from the beginning, go to the end, but only every other character!\n",
    "print(\"What nonsense is this:\",mystring[::2])\n",
    "\n",
    "#reverse a string, we will need to start at the end of the string and step backwards!\n",
    "print(\"Rewind:\",mystring[-1::-1])\n",
    "\n",
    "#This can be done again with even less work!\n",
    "print(\"Still backwards:\",mystring[::-1])\n",
    "\n",
    "#What happens if my start and end are the same?\n",
    "print(\"Hmm..:\",mystring[1:1:])\n",
    "\n",
    "#Maybe going backwards will make progress?\n",
    "print(\"Umm..:\",mystring[1:1:-1])\n",
    "\n",
    "#print the statement \"This never\" using mystring above\n",
    "#Hint: you may need use string concatenation.\n",
    "print()"
   ]
  },
  {
   "cell_type": "markdown",
   "id": "1217137c",
   "metadata": {},
   "source": [
    "**String Methods**\n",
    "\n",
    "An object is a software entity that consists of two things, data and behavior or data with certain behavior.\n",
    "<br>Objects can be simple, such as a string, or complex, like a graphical window or a data file.\n",
    "<br>The behavior of an object is given through its methods.\n",
    "<br>A method carries out a specific task applied to that specific object.\n",
    "\n",
    "For example,\n",
    "<br>Suppose s is a string.\n",
    "<br>len(s) is a function we can apply to a string, but we can also apply len to other non-related objects.\n",
    "<br>s.lower() since lower is a method, denoted with the **.** and it is dedicated to objects of type string."
   ]
  },
  {
   "cell_type": "code",
   "execution_count": null,
   "id": "4632e5d9",
   "metadata": {},
   "outputs": [],
   "source": [
    "s = \"HeLLeLLo42\"\n",
    "print(\"Regular s:\",s)\n",
    "\n",
    "#apply the method lower to s, which returns a version of s where every letter is lowercase\n",
    "lowercaseS = s.lower()\n",
    "print(\"Lowercase s:\",lowercaseS)\n",
    "\n",
    "#apply the method upper to s, which returns a version of s where every letter is uppercase\n",
    "uppercaseS = s.upper()\n",
    "print(\"Uppercase s:\",uppercaseS)\n",
    "\n",
    "#apply the method replace(old,new) which returns a new version of s where every instance of old is replaced with new\n",
    "haiS = s.replace(\"eLL\",\"ai\")\n",
    "print(\"s where we replaced every eLL with ai:\",haiS)"
   ]
  },
  {
   "cell_type": "markdown",
   "id": "3e20504a",
   "metadata": {},
   "source": [
    "Finish the code below.\n",
    "<br>Replace every no with a yes, and keep the casing the same (i.e. NO should be YES).\n",
    "<br>Then make last half of the string all lowercase."
   ]
  },
  {
   "cell_type": "code",
   "execution_count": null,
   "id": "85e9bf91",
   "metadata": {},
   "outputs": [],
   "source": [
    "shout = \"NO. No means no. AND NOTHING ELSE!\"\n",
    "\n",
    "#replace every no with a yes\n",
    "newShout = shout.replace(\"No\",\"Yes\")\n",
    "newShout = newShout.replace(\"no\",\"yes\")\n",
    "#there is another case...\n",
    "newShout = newShout.replace(\"NO\",\"YES\")\n",
    "\n",
    "#now make the latter half of the string lowercase.\n",
    "#hint, use string len, slicing and concatenation \n",
    "newShout = newShout[:len(newShout)//2] + newShout[len(newShout)//2:].lower()\n",
    "\n",
    "#output\n",
    "print(\"Old shout:\",shout)\n",
    "print(\"New shout:\",newShout)"
   ]
  },
  {
   "cell_type": "markdown",
   "id": "cd1b7285",
   "metadata": {},
   "source": [
    "You might have an unexpected consequence in your output...\n",
    "<br>If you cannot think of a work around now, then that is fine. We will learn tools to deal with it later on."
   ]
  },
  {
   "cell_type": "markdown",
   "id": "83259fb0",
   "metadata": {},
   "source": [
    "<a href = \".\\Chapter 2e.ipynb\">Continue</a> with Chapter 2.\n",
    "<br>Return back to the <a href = \".\\index.ipynb\">Main Page</a>"
   ]
  }
 ],
 "metadata": {
  "kernelspec": {
   "display_name": "Python 3 (ipykernel)",
   "language": "python",
   "name": "python3"
  },
  "language_info": {
   "codemirror_mode": {
    "name": "ipython",
    "version": 3
   },
   "file_extension": ".py",
   "mimetype": "text/x-python",
   "name": "python",
   "nbconvert_exporter": "python",
   "pygments_lexer": "ipython3",
   "version": "3.9.0"
  }
 },
 "nbformat": 4,
 "nbformat_minor": 5
}
