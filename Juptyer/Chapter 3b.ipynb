{
 "cells": [
  {
   "cell_type": "markdown",
   "id": "8d1f8713",
   "metadata": {},
   "source": [
    "# Chapter 3b - Multiple branches and Comparing data\n",
    "\n",
    "\n",
    "The objective of this notebook are:\n",
    "\n",
    "- Learn the fundamentals how to:\n",
    "    - implement elif \n",
    "    - compare floating point data \n",
    "    - analyze string data\n",
    "\n",
    "\n"
   ]
  },
  {
   "cell_type": "markdown",
   "id": "626d35f5-91ec-4ac6-a847-06ef9685e9a4",
   "metadata": {},
   "source": [
    "---\n",
    "### Multiple branches\n",
    "\n",
    "There are occasions where unary or binary outcomes are simply not enough. To capture this, we use `elif`, which stands for else if. The `elif` goes in between the `if` and `else` statement. There is no limit to the number of `elif` statements. The syntax to use `elif` is as follows, \n",
    "\n",
    "```\n",
    "if (conditional statement 1):\n",
    "    Execute this set of statements if the conditional statement 1 is True\n",
    "elif (conditional statement 2):\n",
    "    Execute this set of statements if the conditional statement 2 is True\n",
    "elif (conditional statement 3):\n",
    "    Execute this set of statements if the conditional statement 3 is True\n",
    ".\n",
    ".\n",
    ".\n",
    "else:\n",
    "    Execute this set of statements if the conditional statements are False\n",
    "```\n",
    "\n",
    "For instance, MUN offers a shuttle service between the St. John's campus, Signal Hill Campus, Marine Institute, and Ocean Sciences Centre. If we assume a person was traveling from St. John's campus and wanted to know how long it takes to get to each desitnation the code might be as follows,\n"
   ]
  },
  {
   "cell_type": "code",
   "execution_count": 1,
   "id": "1cc2a8fa-1e8a-41b4-815d-c3e1ca28a09b",
   "metadata": {},
   "outputs": [
    {
     "name": "stdout",
     "output_type": "stream",
     "text": [
      "Travel time from St. John's Campus to Signal Hill Campus is approximately 10 Minutes\n"
     ]
    }
   ],
   "source": [
    "destination = \"Signal Hill Campus\" # which campus do y ou travel to\n",
    "if (destination == \"Signal Hill Campus\"): \n",
    "    print(\"Travel time from St. John's Campus to Signal Hill Campus is approximately 10 Minutes\")\n",
    "elif (destination == \"Marine Institute\"): \n",
    "    print(\"Travel time  from St. John's Campus to Marine Institute is approximately 15 Minutes\")\n",
    "else: \n",
    "    print(\"Travel time from St. John's Campus to Ocean Sciences Centre is approximately 20 Minutes\")\n",
    "       \n"
   ]
  },
  {
   "cell_type": "markdown",
   "id": "60c6b7a0-d62b-4656-94d4-70baa64d87f9",
   "metadata": {},
   "source": [
    "You could impliment `elif` using `if` statements, as shown below. However, this makes reading the code more difficult. "
   ]
  },
  {
   "cell_type": "markdown",
   "id": "f5fcdf10-1073-4a34-8fa7-72e584afee7a",
   "metadata": {
    "tags": []
   },
   "source": [
    "---\n",
    "### Common issue\n",
    "\n",
    "If you are not seeing the outcome you expected, then check the logic in your conditional statements. You may have used the wrong variable or written `<` instead `<=`. \n"
   ]
  },
  {
   "cell_type": "markdown",
   "id": "24958717-34b6-4898-8e65-0e1b4916ad34",
   "metadata": {},
   "source": [
    "---\n",
    "### Comparing floating point numbers\n",
    "\n",
    "Floating point numbers unlike integers have limited precision and calculations can introduce roundoff error. This means you cannot use `==` to see if two floating point numbers are equal.   Take the following example,  "
   ]
  },
  {
   "cell_type": "code",
   "execution_count": 2,
   "id": "90793ef0-3607-49d6-9dc0-0cda774f38a9",
   "metadata": {
    "tags": []
   },
   "outputs": [
    {
     "name": "stdout",
     "output_type": "stream",
     "text": [
      "0.15 + 0.15 is the not equal to 0.1 + 0.2\n",
      "0.15 + 0.15 is: 0.3\n",
      "0.1 + 0.2 is: 0.30000000000000004\n"
     ]
    }
   ],
   "source": [
    "a = 0.15 + 0.15\n",
    "b = 0.1 + 0.2\n",
    "if (a == b):\n",
    "    print(\" 0.15 + 0.15 is the equal to 0.1 + 0.2\")\n",
    "else: \n",
    "    print(\"0.15 + 0.15 is the not equal to 0.1 + 0.2\")\n",
    "\n",
    "print(\"0.15 + 0.15 is:\",a)\n",
    "print(\"0.1 + 0.2 is:\",b)"
   ]
  },
  {
   "cell_type": "markdown",
   "id": "e7b36be4-e2a3-4784-9a13-4f661bc52ec9",
   "metadata": {},
   "source": [
    "As you can see from our example, you must factor in roundoff error when you compare floating point numbers. We use a very small number, usually called *tolerance*, to determine the difference of two floating point number are *close enough*. Tolerance is often denoted as TOL or EPSILON."
   ]
  },
  {
   "cell_type": "code",
   "execution_count": 3,
   "id": "488dd74b-244f-4280-a00f-d80196d92c22",
   "metadata": {
    "tags": []
   },
   "outputs": [
    {
     "name": "stdout",
     "output_type": "stream",
     "text": [
      "0.15 + 0.15 is approximatly 0.1 + 0.2\n"
     ]
    }
   ],
   "source": [
    "TOL = 1e-14 \n",
    "a = 0.15 + 0.15\n",
    "b = 0.1 + 0.2\n",
    "if abs(a - b) < TOL:\n",
    "    print(\"0.15 + 0.15 is approximatly 0.1 + 0.2\")"
   ]
  },
  {
   "cell_type": "markdown",
   "id": "0da75675-cbdf-483d-9e54-013929583287",
   "metadata": {},
   "source": [
    "At best, we want to make sure the relative difference should be less than some tolerance. Mathematically, we would write that `x` and `y` are close enough if, $\\frac{|x-y|}{|x|} \\leq TOL$."
   ]
  },
  {
   "cell_type": "code",
   "execution_count": 4,
   "id": "bd43dddf-4ff7-43d9-93be-c1acc6c4aa04",
   "metadata": {
    "tags": []
   },
   "outputs": [
    {
     "name": "stdout",
     "output_type": "stream",
     "text": [
      "0.15 + 0.15 is approximatly 0.1 + 0.2\n"
     ]
    }
   ],
   "source": [
    "TOL = 1e-14 \n",
    "a = 0.15 + 0.15\n",
    "b = 0.1 + 0.2\n",
    "if abs(a - b)/abs(a) < TOL:\n",
    "    print(\"0.15 + 0.15 is approximatly 0.1 + 0.2\")"
   ]
  },
  {
   "cell_type": "markdown",
   "id": "4d343edd-f6e4-4979-bdc4-c0bbb3b6a957",
   "metadata": {},
   "source": [
    "## Analyze string data\n",
    "We often want to know if a particular substring is contained in a given string, there are many ways to accomplish this task.\n",
    "\n",
    "### The in operator\n",
    "\n",
    "The `in` operator returns `True` if substring is contained in a given string and `False` otherwise. The `not in` returns `True` if is a substring is not contained in a given string and `False` otherwise. Otherwise, both operators return False if a substring is not contained the given string. For example,\n"
   ]
  },
  {
   "cell_type": "code",
   "execution_count": 5,
   "id": "96545873-2d77-4147-925e-75fd473a0c8d",
   "metadata": {
    "tags": []
   },
   "outputs": [
    {
     "name": "stdout",
     "output_type": "stream",
     "text": [
      "False\n"
     ]
    }
   ],
   "source": [
    "print(\"sci\" in \"Computer Science\")\n"
   ]
  },
  {
   "cell_type": "markdown",
   "id": "60e7149b-f4d0-41c5-97b0-05760d954fe3",
   "metadata": {},
   "source": [
    "Our example yields `False` because \"sci\" is not a substring of \"Computer Science\". For our next example, if we use the `not in` operator we should get `False`,"
   ]
  },
  {
   "cell_type": "code",
   "execution_count": 6,
   "id": "11f53d66-c962-4ca9-b494-4183bae19123",
   "metadata": {},
   "outputs": [
    {
     "name": "stdout",
     "output_type": "stream",
     "text": [
      "True\n"
     ]
    }
   ],
   "source": [
    "print(\"sci\" not in \"Computer Science\")"
   ]
  },
  {
   "cell_type": "markdown",
   "id": "55f5ca82-41a1-4f88-a987-0c7435dd8616",
   "metadata": {},
   "source": [
    "Indeed, that is case. In general, spelling matters when you are checking if a string contains a given substring.\n",
    "\n",
    "### String methods for testing substrings \n",
    "\n",
    "There are some substring testing methods built into the string class such as count, endswith, find, and startswith. \n",
    "\n",
    "\n",
    "| String operation     | Description |\n",
    "| ----------- | ----------- |\n",
    "| `String.count(substring)`      | Return the number of non-overlapping occurrences of `substring` in `String`       \n",
    "| `String.find(substring)`     |  Returns the lowest index in `String` where `substring` begins or -1 if `substring` is not found.   |\n",
    "| `String.startswith(substring)`      | Return `True` if `String` starts with the `substring` and False otherwise      |\n",
    "| `String.endswith(substring)`      | Return `True` if `String` ends with the `substring` and False otherwise   |\n",
    "\n"
   ]
  },
  {
   "cell_type": "code",
   "execution_count": 7,
   "id": "d9a6b7bf-c196-4e91-b276-bebd2e826995",
   "metadata": {
    "tags": []
   },
   "outputs": [
    {
     "name": "stdout",
     "output_type": "stream",
     "text": [
      "Our test string is: Memorial University of Newfoundland\n",
      "The number of times the letter 'o' appears:  3\n",
      "The lowest index for the substring 'University' is:  9\n",
      "Starts with the substring 'D'?:  False\n",
      "Ends with the substring 'land'?:  True\n"
     ]
    }
   ],
   "source": [
    "String = \"Memorial University of Newfoundland\"\n",
    "print(\"Our test string is:\",String)\n",
    "print(\"The number of times the letter 'o' appears: \", String.count(\"o\"))\n",
    "print(\"The lowest index for the substring 'University' is: \", String.find(\"University\"))\n",
    "print(\"Starts with the substring 'D'?: \", String.startswith(\"D\"))\n",
    "print(\"Ends with the substring 'land'?: \", String.endswith(\"land\"))\n"
   ]
  },
  {
   "cell_type": "markdown",
   "id": "fd4dc343-cd97-4bbe-92ba-539278efd1b8",
   "metadata": {},
   "source": [
    "### Relational operators and strings \n",
    "\n",
    "All relational operators can also be applied to strings. However, note that `<` is based on the alphabetical order of strings, where capital letters come before lower case letters.\n"
   ]
  },
  {
   "cell_type": "code",
   "execution_count": 8,
   "id": "ca5c23ff-532a-4595-ac05-66c89ca3320a",
   "metadata": {
    "tags": []
   },
   "outputs": [
    {
     "name": "stdout",
     "output_type": "stream",
     "text": [
      "False\n",
      "True\n",
      "True\n"
     ]
    }
   ],
   "source": [
    "print(\"apple\" == \"Apple\") # Strings are not the same \n",
    "print(\"apple\" > \"Apple\") # Lowercase 'a' come after uppercase 'A'\n",
    "print(\"Apple\" <= \"apple\") # remember <= means less-than OR equal"
   ]
  },
  {
   "cell_type": "markdown",
   "id": "a087bfb4",
   "metadata": {},
   "source": [
    "---\n",
    "### Summary\n",
    "\n",
    "\n",
    "**elif statement syntax**\n",
    "```\n",
    "if (Conditional statement 1):\n",
    "    Execute this set of statements if conditional statement 1 is True \n",
    "elif (Conditional statement 2):\n",
    "    Execute this set of statements if conditional statement 2 is True \n",
    "elif (Conditional statement 3):\n",
    "    Execute this set of statements if conditional statement 3 is True \n",
    ".\n",
    ".\n",
    ".\n",
    "else: \n",
    "    Execute this set of statements if all prior conditional statements are False \n",
    "\n",
    "```\n",
    "**Comparing floating point numbers**\n",
    "\n",
    "We compare if two floating point \n",
    "\n",
    "**Comparing strings **\n",
    "\n",
    "You can compare strings with all the relational operators and the string class has built in substring tests such as count, endswith, find, and startswith. \n",
    "\n",
    "\n",
    "| String operation     | Description |\n",
    "| ----------- | ----------- |\n",
    "| `substring in String`      | Returns `True` if `String` contains `substring` and False otherwise    | \n",
    "| `String.count(substring)`      | Returns the number of non-overlapping occurrences of `substring` in `String`       \n",
    "| `String.find(substring)`     |  Returns the lowest index in `String` where `substring` begins or -1 if `substring` is not found.   |\n",
    "| `String.startswith(substring)`      | Returns `True` if `String` starts with the `substring` and False otherwise      |\n",
    "| `String.endswith(substring)`      | Returns `True` if `String` ends with the `substring` and False otherwise   |\n",
    "\n"
   ]
  },
  {
   "cell_type": "markdown",
   "id": "9ff0d772",
   "metadata": {},
   "source": [
    "You have finished Chapter 3b.\n",
    "<br>Return back to the <a href = \".\\index.ipynb\">Main Page</a>"
   ]
  }
 ],
 "metadata": {
  "kernelspec": {
   "display_name": "Python 3 (ipykernel)",
   "language": "python",
   "name": "python3"
  },
  "language_info": {
   "codemirror_mode": {
    "name": "ipython",
    "version": 3
   },
   "file_extension": ".py",
   "mimetype": "text/x-python",
   "name": "python",
   "nbconvert_exporter": "python",
   "pygments_lexer": "ipython3",
   "version": "3.9.17"
  }
 },
 "nbformat": 4,
 "nbformat_minor": 5
}
