{
 "cells": [
  {
   "cell_type": "code",
   "execution_count": null,
   "id": "246b4903",
   "metadata": {},
   "outputs": [],
   "source": [
    "%load_ext nb_mypy \n",
    "#you may opt to run this piece of code.\n",
    "#The package can be installed by typing in your Terminal:\n",
    "#             python3 -m pip install nb_mypy"
   ]
  },
  {
   "cell_type": "markdown",
   "id": "8d1f8713",
   "metadata": {},
   "source": [
    "# Chapter 2b - Arithmetic\n",
    "\n",
    "**ARITHMETIC**\n",
    "\n",
    "Python supports all the basic arithmetic operations:\n",
    "<br>• Addition “+”\n",
    "<br>• Subtraction “-”\n",
    "<br>• Multiplication “*”\n",
    "<br>• Division “/”\n",
    "<br>• Exponentiation “**”\n",
    "\n",
    "**Precedence is like that of Algebra: PEMDAS**\n",
    "<br>Parenthesis, Exponent, Multiply/Divide, Add/Subtract\n",
    "\n",
    "So that means that 4+5\\*6/7-1 would be the expression 4+(5\\*6/7)-1, as seen in value 1.\n",
    "<br>If we instead wanted 4+5\\*6 to be over 7-1, then we would need to use parenthesis as seen in value2."
   ]
  },
  {
   "cell_type": "code",
   "execution_count": null,
   "id": "41462a07",
   "metadata": {},
   "outputs": [],
   "source": [
    "#without parenthesis\n",
    "value1 = 4+5*6/7-1\n",
    "print(\"Value1 4+5*6/7-1:\",value1)\n",
    "\n",
    "#with parenthesis\n",
    "value2 = (4+5*6)/(7-1)\n",
    "print(\"Value2 (4+5*6)/(7-1):\",value2)"
   ]
  },
  {
   "cell_type": "markdown",
   "id": "27c6d915",
   "metadata": {},
   "source": [
    "Notice how we got a floating point number.\n",
    "\n",
    "If we mix an integer and a float in arithmetic, the result is a float.\n",
    "<br>If we use integers or floats with certain operations such as division or square roots, we get floats."
   ]
  },
  {
   "cell_type": "code",
   "execution_count": null,
   "id": "c7155b25",
   "metadata": {},
   "outputs": [],
   "source": [
    "#Trying arithmetic\n",
    "print(\"Addition\")\n",
    "print(\"int + int is an int:\", 4+2)\n",
    "print(\"float + int is a float:\", 4.0+2)\n",
    "print(\"float + float is a float:\", 4.3+2.7)\n",
    "\n",
    "print(\"\\nSubtraction\")\n",
    "print(\"int - int is an int:\", 4-2)\n",
    "print(\"float - int is a float:\", 4.0-2)\n",
    "print(\"float - float is a float:\", 4.3-6.7)\n",
    "\n",
    "print(\"\\nMultiplication\")\n",
    "print(\"int * int is an int:\", 4*2)\n",
    "print(\"float * int is a float:\", 4.0*2)\n",
    "\n",
    "print(\"\\nDivision\")\n",
    "print(\"int / int is a float:\", -4/2)\n",
    "print(\"float / int is a float:\", 4.0/2)\n",
    "\n",
    "print(\"\\nExponents\")\n",
    "print(\"int ^ int is an int:\", -4**2)\n",
    "print(\"float ^ int is a float:\", 4.0**2)\n",
    "print(\"int ^ float is a float:\", 4**(1/2)) #to the power of a half is equivalent to square root"
   ]
  },
  {
   "cell_type": "markdown",
   "id": "5512c9dd",
   "metadata": {},
   "source": [
    "**Floor Division** \n",
    "\n",
    "Floor division “//” operator computes the **quotient**, q, and discards the fractional part.\n",
    "<br>So while 7 / 4 = 1.75,  7 // 4 = 1 since 7 = 4 * 1 + 3 with a fractional part of 3/4 = 0.75, which is discarded.\n",
    "\n",
    "In general, we have D = d * **q** + r, so 7 = 4 * 1 + 3.\n",
    "<br>Floor division gets the value of q. "
   ]
  },
  {
   "cell_type": "code",
   "execution_count": null,
   "id": "c48c3b51",
   "metadata": {},
   "outputs": [],
   "source": [
    "print(\"Regular division:\",7/4)\n",
    "print(\"Floor division:\",7//4)\n",
    "\n",
    "#Notice how this does not round!\n",
    "#It simply removes it.\n",
    "print(\"These two are the same:\", 5//2, 4//2)"
   ]
  },
  {
   "cell_type": "markdown",
   "id": "2cd6cf30",
   "metadata": {},
   "source": [
    "If you are interested in the remainder of dividing two integers, the **r** from that formula above, use the “%” operator (called modulus). \n",
    "<br>So, 7 % 4 = 3.\n",
    "\n",
    "This is often used to check divisibility or parity (if an integer is even or odd)."
   ]
  },
  {
   "cell_type": "code",
   "execution_count": null,
   "id": "b3d815f8",
   "metadata": {},
   "outputs": [],
   "source": [
    "print(\"An odd number would have the value of 1 when we %2: 7%2 =\", 7%2)\n",
    "print(\"Meanwhile, an even number would have the value of 0 when we %2: 32%2 =\", 32%2)\n",
    "print(\"It is important to note that the number 0 is even: 0%2 =\", 0%2)\n",
    "print()\n",
    "print(\"Any number divisible by d will give a remainder 0!\")\n",
    "print(\"D = 12, d = 4. 12 = 4 *\", 12//4, \"+\", 12%4)\n",
    "print()\n",
    "print(\"And if it is not divisible by d, it will give a remainder r such that 0 < r < d.\")\n",
    "print(\"D = 15, d = 4. 15 = 4 *\", 15//4, \"+\", 15%4)\n",
    "print()\n",
    "print(\"We can also get the last two digits of a number by doing % 100. The last two digits of 1932 is\", 1932%100)\n",
    "print(\"We can also get the first two digits of a number by doing // 100. The last two digits of 1932 is\", 1932//100)\n",
    "\n",
    "#Try to get the last digit of 923 using modulous.\n",
    "print()\n",
    "#Try to get the first two digits of 923 using floor division.\n",
    "print()"
   ]
  },
  {
   "cell_type": "markdown",
   "id": "7c156c9a",
   "metadata": {},
   "source": [
    "Some nuances... \n",
    "\n",
    "There are a couple things that we need to know, and it is going to work best with experimenting!\n",
    "<br>Run the code snippets below."
   ]
  },
  {
   "cell_type": "code",
   "execution_count": null,
   "id": "870bac2f",
   "metadata": {},
   "outputs": [],
   "source": [
    "#Trying arithmetic\n",
    "print(\"Floor Division\")\n",
    "print(\"int // int is an int:\", 4//2)\n",
    "print(\"float // int is a float:\", 4.0//3, \"but the fractional part is still removed!\")\n",
    "print(\"int // float is a float:\", 4//2.7, \"but the fractional part is still removed!\")\n",
    "\n",
    "print(\"\\nModulo\")\n",
    "print(\"int % int is an int:\", 4%2)\n",
    "print(\"float % int is a float:\", 4.3%2)\n",
    "print(\"float % float is a float:\", 3%2.1)\n",
    "print(\"It can be done with negative values... -3%4 =\", -3%4, \"while 3%4 =\",3%4)\n",
    "print(\"It can be done with negative values... 3%4 =\", 3%4, \"while 3%-4 =\",3%-4) #Usually we don't do this."
   ]
  },
  {
   "cell_type": "markdown",
   "id": "4432e533",
   "metadata": {},
   "source": [
    "Run the code below then comment the line that contains an error.\n",
    "<br>Repeat this until there are no more errors left."
   ]
  },
  {
   "cell_type": "code",
   "execution_count": null,
   "id": "4f4ca3ca",
   "metadata": {},
   "outputs": [],
   "source": [
    "#Errors\n",
    "print(\"Just like in grade school, we cannot divide by 0:\", 4/0)\n",
    "print(\"Nor floor division by 0:\", 4//0)\n",
    "print(\"Nor do mod with d = 0:\", 4%0)"
   ]
  },
  {
   "cell_type": "markdown",
   "id": "6872a837",
   "metadata": {},
   "source": [
    "There are many built-in functions available in Python, which could be called by complying with the rules that govern their arguments.\n",
    "<br>Some noteworthy ones are:\n",
    "1. abs(num) which gets the absolute value of a given number (number could be a float or an integer).\n",
    "2. round(num) which rounds given number (number could be a float or an integer). \n",
    "3. round(num,int) which rounds given number (number could be a float or an integer) to a certain amount of decimal places. \n",
    "   <br>This int portion is an optional argument for round.\n",
    "4. max(num1,num2,...) which returns the maximum value from any amount of numbers.\n",
    "5. min(num1,num2,...) which returns the minimum value from any amount of numbers."
   ]
  },
  {
   "cell_type": "code",
   "execution_count": null,
   "id": "0a60e8c7",
   "metadata": {},
   "outputs": [],
   "source": [
    "#absolute value\n",
    "print(\"The distance was\", abs(-120),\"meters.\")\n",
    "#try putting another argument in abs, like abs(-120,2).\n",
    "\n",
    "#round... it has some nuance to it...\n",
    "print(\"\\n3.49 rounded is\",round(3.49))\n",
    "print(\"3.5 rounded is\",round(3.5),\"as odd numbers with a .5 are rounded up.\")\n",
    "print(\"3.51 rounded is\",round(3.51))\n",
    "print(\"4.49 rounded is\",round(4.49))\n",
    "print(\"4.5 rounded is\",round(4.5),\"as even numbers with a .5 are rounded down to be fair -- why always round up?\")\n",
    "print(\"4.51 rounded is\",round(4.51))\n",
    "\n",
    "#we can round with a certain amount of decimal digits\n",
    "sale = 192.1152\n",
    "print(\"\\nThe final sale is\", round(sale,2))\n",
    "\n",
    "#max/min\n",
    "print(\"\\nThe maximum value of 2,5,3,1 is\",max(2,5,3,1))\n",
    "print(\"The minimum value of 2,5,3,1 is\",min(2,5,3,1))"
   ]
  },
  {
   "cell_type": "markdown",
   "id": "423971eb",
   "metadata": {},
   "source": [
    "------\n",
    "A common error students face is missing parentheses.\n",
    "<br>The code below faces both logical and syntax errors. Fix it until there are no more errors."
   ]
  },
  {
   "cell_type": "code",
   "execution_count": 1,
   "id": "2c4bc8c0",
   "metadata": {},
   "outputs": [
    {
     "ename": "SyntaxError",
     "evalue": "invalid syntax (734863745.py, line 9)",
     "output_type": "error",
     "traceback": [
      "\u001b[0;36m  Cell \u001b[0;32mIn[1], line 9\u001b[0;36m\u001b[0m\n\u001b[0;31m    midpoint : float = raceStart - raceEnd / 2\u001b[0m\n\u001b[0m    ^\u001b[0m\n\u001b[0;31mSyntaxError\u001b[0m\u001b[0;31m:\u001b[0m invalid syntax\n"
     ]
    }
   ],
   "source": [
    "#variables\n",
    "raceStart : float = 0.97 #in meters\n",
    "raceEnd : float = 13.24 #in meters\n",
    "    \n",
    "#calculations\n",
    "distanceTwoLaps : float = 2*(abs(13.24 + 0.97)\n",
    "\n",
    "#midpoint (halfway point) of the original distance of the race\n",
    "midpoint : float = raceStart - raceEnd / 2\n",
    "\n",
    "#midpoint divided by the sum of the start and end to power of 3\n",
    "#                midpoint\n",
    "#        ------------------------\n",
    "#        (raceStart + raceEnd)^3\n",
    "print(\"Some weird value:\" midpoint / raceStart + raceEnd ** 3)\n",
    "    "
   ]
  },
  {
   "cell_type": "markdown",
   "id": "9e7a8970",
   "metadata": {},
   "source": [
    "It is important to know that we can cast values to an integer or to a float.\n",
    "<br>This can be done by int(value) or float(value).\n",
    "<br>Notice when we cast a float to an integer, we round down."
   ]
  },
  {
   "cell_type": "code",
   "execution_count": 4,
   "id": "2cbdd269",
   "metadata": {},
   "outputs": [
    {
     "name": "stdout",
     "output_type": "stream",
     "text": [
      "12.0\n",
      "12\n"
     ]
    }
   ],
   "source": [
    "dozen : int = 12\n",
    "#cast to a float\n",
    "print(float(dozen))\n",
    "\n",
    "price : float = 12.99\n",
    "#cast to an integer\n",
    "print(int(price))"
   ]
  },
  {
   "cell_type": "markdown",
   "id": "7690217c",
   "metadata": {},
   "source": [
    "**Consequences of floating-point numbers**\n",
    "\n",
    "Floating-point values are not exact -- they are approximate!\n",
    "<br>When we convert a float to an int, then the fractional part is lost.\n",
    "<br>Think about the answer to the code below, and watch what happens after it runs!"
   ]
  },
  {
   "cell_type": "code",
   "execution_count": 1,
   "id": "6890f073",
   "metadata": {},
   "outputs": [
    {
     "name": "stdout",
     "output_type": "stream",
     "text": [
      "434.99999999999994\n"
     ]
    }
   ],
   "source": [
    "price : float = 4.35\n",
    "quantity : int = 100\n",
    "total : float = price * quantity\n",
    "# Should be 100 * 4.35 = 435.00\n",
    "print(total)"
   ]
  },
  {
   "cell_type": "markdown",
   "id": "a9f44065",
   "metadata": {},
   "source": [
    "You see, the numbers are stored as binary in the computer and decimal places are approximate.\n",
    "<br>When we convert this value to an integer, the fractional part of the floating-point value is lost (no rounding occurs)."
   ]
  },
  {
   "cell_type": "code",
   "execution_count": 2,
   "id": "aa3c8df8",
   "metadata": {},
   "outputs": [
    {
     "name": "stdout",
     "output_type": "stream",
     "text": [
      "434\n"
     ]
    }
   ],
   "source": [
    "totalInt : int = int(total)\n",
    "print(totalInt)"
   ]
  },
  {
   "cell_type": "markdown",
   "id": "838423dc",
   "metadata": {},
   "source": [
    "-----\n",
    "Finish the code below. \n",
    "<br>Declare the types as well."
   ]
  },
  {
   "cell_type": "code",
   "execution_count": null,
   "id": "e5c9dea5",
   "metadata": {},
   "outputs": [],
   "source": [
    "#variables\n",
    "chocolateBarPrice = 1.29\n",
    "gummyBearsPrice = 1.21\n",
    "chipsPrice = 2.99\n",
    "quantity = 3\n",
    "\n",
    "#constants\n",
    "TAX = 1.15\n",
    "\n",
    "#They bought 3 chocolate bars, a bag of gummy bears, and a bag of chips\n",
    "#Do your calculations here. Store intermediate results.\n",
    "\n",
    "#the sale price, remember there are no half cents!\n",
    "print(\"The final sale price is:\",)\n",
    "\n",
    "#the amount of dollars, not cents\n",
    "print(\"This many dollars:\",)\n",
    "\n",
    "#the change that is less than a dollar, but the user is paying this part in pennies!\n",
    "print(\"This many pennies:\",)\n",
    "\n",
    "#maximum priced item\n",
    "print(\"The most expensive item cost:\",)\n",
    "\n",
    "#minimum priced item\n",
    "print(\"The cheapest item cost:\",)"
   ]
  },
  {
   "cell_type": "markdown",
   "id": "328a077f",
   "metadata": {},
   "source": [
    "<a href = \".\\Chapter 2c.ipynb\">Continue</a> with Chapter 2.\n",
    "<br>Return back to the <a href = \".\\index.ipynb\">Main Page</a>"
   ]
  }
 ],
 "metadata": {
  "kernelspec": {
   "display_name": "Python 3 (ipykernel)",
   "language": "python",
   "name": "python3"
  },
  "language_info": {
   "codemirror_mode": {
    "name": "ipython",
    "version": 3
   },
   "file_extension": ".py",
   "mimetype": "text/x-python",
   "name": "python",
   "nbconvert_exporter": "python",
   "pygments_lexer": "ipython3",
   "version": "3.9.0"
  }
 },
 "nbformat": 4,
 "nbformat_minor": 5
}
